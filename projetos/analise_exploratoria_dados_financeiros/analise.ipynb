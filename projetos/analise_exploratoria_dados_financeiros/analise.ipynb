{
  "cells": [
    {
      "cell_type": "markdown",
      "metadata": {
        "id": "YlTm7wlFmmsR"
      },
      "source": [
        "# Projeto Técnicas de programação I\n",
        "\n",
        "## Análise exploratória de dados com Pandas\n",
        "\n",
        "Nomes: \n",
        " * Carlos Magno\n",
        " * Danrley Lima\n",
        " * Elizabeth Oliveira\n",
        " * Mateus Paranhos\n",
        "\n",
        "Turma:Diversidade 892"
      ]
    },
    {
      "cell_type": "markdown",
      "metadata": {
        "id": "3RsLL4tQmmsU"
      },
      "source": [
        " ### 1 - Carregar os arquivos e cadastro, investimento1 e investimento2 e mostrar a quantidade de linhas de cada um, além das informações desses dataframes"
      ]
    },
    {
      "cell_type": "code",
      "execution_count": 1,
      "metadata": {
        "id": "o7iNG_HPmmsU",
        "scrolled": true
      },
      "outputs": [],
      "source": [
        "# Importa as bibliotecas utilizadas\n",
        "\n",
        "import pandas as pd\n",
        "import numpy as np\n",
        "import matplotlib.pyplot as plt"
      ]
    },
    {
      "cell_type": "code",
      "execution_count": 2,
      "metadata": {},
      "outputs": [],
      "source": [
        "# Definindo as variáveis de ambiente que serão utilizadas para carregar os arquivos\n",
        "\n",
        "# A função getcwd() retorna o path absoluto do diretório de trabalho atual\n",
        "dados_dir = os.getcwd()\n",
        "\n",
        "nome_arquivo_cadastro = '//dados_brutos//cadastro.csv'\n",
        "nome_arquivo_investimento_1 = '//dados_brutos//investimento_parte1.csv'\n",
        "nome_arquivo_investimento_2 = '//dados_brutos//investimento_parte2.csv'\n",
        "\n",
        "# Lê os arquivos da pasta onde o código é executado\n",
        "\n",
        "cadastro = pd.read_csv(dados_dir + nome_arquivo_cadastro, sep=',')\n",
        "fin_01 = pd.read_csv(dados_dir + nome_arquivo_investimento_1, sep=',')\n",
        "fin_02 = pd.read_csv(dados_dir + nome_arquivo_investimento_2, sep=',')\n"
      ]
    },
    {
      "cell_type": "code",
      "execution_count": 3,
      "metadata": {
        "colab": {
          "base_uri": "https://localhost:8080/",
          "height": 241
        },
        "id": "A1unnytfmmsV",
        "outputId": "102b7033-ea92-4b6e-f09c-06c57ccb1dba"
      },
      "outputs": [
        {
          "name": "stdout",
          "output_type": "stream",
          "text": [
            "Linhas 38754\n",
            "Colunas 9\n"
          ]
        },
        {
          "data": {
            "text/html": [
              "<div>\n",
              "<style scoped>\n",
              "    .dataframe tbody tr th:only-of-type {\n",
              "        vertical-align: middle;\n",
              "    }\n",
              "\n",
              "    .dataframe tbody tr th {\n",
              "        vertical-align: top;\n",
              "    }\n",
              "\n",
              "    .dataframe thead th {\n",
              "        text-align: right;\n",
              "    }\n",
              "</style>\n",
              "<table border=\"1\" class=\"dataframe\">\n",
              "  <thead>\n",
              "    <tr style=\"text-align: right;\">\n",
              "      <th></th>\n",
              "      <th>id</th>\n",
              "      <th>Nome</th>\n",
              "      <th>Sexo</th>\n",
              "      <th>Nasc</th>\n",
              "      <th>Idade</th>\n",
              "      <th>Email</th>\n",
              "      <th>Lat_long</th>\n",
              "      <th>Job</th>\n",
              "      <th>Estado</th>\n",
              "    </tr>\n",
              "  </thead>\n",
              "  <tbody>\n",
              "    <tr>\n",
              "      <th>0</th>\n",
              "      <td>id0000001</td>\n",
              "      <td>Eunice Hellen do Vale</td>\n",
              "      <td>Fem</td>\n",
              "      <td>1970-11-12</td>\n",
              "      <td>51</td>\n",
              "      <td>djones@yahoo.com</td>\n",
              "      <td>(Decimal('24.7024355'), Decimal('-28.038258'))</td>\n",
              "      <td>Technical author</td>\n",
              "      <td>TO</td>\n",
              "    </tr>\n",
              "    <tr>\n",
              "      <th>1</th>\n",
              "      <td>id0000002</td>\n",
              "      <td>Sebastião Castelo Branco Júnior</td>\n",
              "      <td>Masc</td>\n",
              "      <td>2019-12-10</td>\n",
              "      <td>2</td>\n",
              "      <td>barnesandrea@yahoo.com</td>\n",
              "      <td>(Decimal('21.8589875'), Decimal('122.830566'))</td>\n",
              "      <td>Biochemist, clinical</td>\n",
              "      <td>DF</td>\n",
              "    </tr>\n",
              "    <tr>\n",
              "      <th>2</th>\n",
              "      <td>id0000003</td>\n",
              "      <td>Romildo Fábio de Carvalho</td>\n",
              "      <td>Masc</td>\n",
              "      <td>2015-12-28</td>\n",
              "      <td>6</td>\n",
              "      <td>walkermichael@yahoo.com</td>\n",
              "      <td>(Decimal('-28.2161525'), Decimal('97.140529'))</td>\n",
              "      <td>Development worker, international aid</td>\n",
              "      <td>DF</td>\n",
              "    </tr>\n",
              "    <tr>\n",
              "      <th>3</th>\n",
              "      <td>id0000004</td>\n",
              "      <td>Lana Albina de Lemos Mumy</td>\n",
              "      <td>Fem</td>\n",
              "      <td>1993-05-03</td>\n",
              "      <td>28</td>\n",
              "      <td>cobbangela@hotmail.com</td>\n",
              "      <td>(Decimal('-40.8557635'), Decimal('-2.936099'))</td>\n",
              "      <td>Estate manager/land agent</td>\n",
              "      <td>DF</td>\n",
              "    </tr>\n",
              "    <tr>\n",
              "      <th>4</th>\n",
              "      <td>id0000005</td>\n",
              "      <td>Rose Elisângela Vyrnium de Moura</td>\n",
              "      <td>Fem</td>\n",
              "      <td>1984-06-10</td>\n",
              "      <td>37</td>\n",
              "      <td>crawfordcraig@yahoo.com</td>\n",
              "      <td>(Decimal('-20.2620885'), Decimal('104.349223'))</td>\n",
              "      <td>Chartered public finance accountant</td>\n",
              "      <td>MS</td>\n",
              "    </tr>\n",
              "  </tbody>\n",
              "</table>\n",
              "</div>"
            ],
            "text/plain": [
              "          id                              Nome  Sexo        Nasc  Idade  \\\n",
              "0  id0000001             Eunice Hellen do Vale   Fem  1970-11-12     51   \n",
              "1  id0000002   Sebastião Castelo Branco Júnior  Masc  2019-12-10      2   \n",
              "2  id0000003         Romildo Fábio de Carvalho  Masc  2015-12-28      6   \n",
              "3  id0000004         Lana Albina de Lemos Mumy   Fem  1993-05-03     28   \n",
              "4  id0000005  Rose Elisângela Vyrnium de Moura   Fem  1984-06-10     37   \n",
              "\n",
              "                     Email                                         Lat_long  \\\n",
              "0         djones@yahoo.com   (Decimal('24.7024355'), Decimal('-28.038258'))   \n",
              "1   barnesandrea@yahoo.com   (Decimal('21.8589875'), Decimal('122.830566'))   \n",
              "2  walkermichael@yahoo.com   (Decimal('-28.2161525'), Decimal('97.140529'))   \n",
              "3   cobbangela@hotmail.com   (Decimal('-40.8557635'), Decimal('-2.936099'))   \n",
              "4  crawfordcraig@yahoo.com  (Decimal('-20.2620885'), Decimal('104.349223'))   \n",
              "\n",
              "                                     Job Estado  \n",
              "0                       Technical author     TO  \n",
              "1                   Biochemist, clinical     DF  \n",
              "2  Development worker, international aid     DF  \n",
              "3              Estate manager/land agent     DF  \n",
              "4    Chartered public finance accountant     MS  "
            ]
          },
          "execution_count": 3,
          "metadata": {},
          "output_type": "execute_result"
        }
      ],
      "source": [
        "# Print do número de linhas e colunas do dataframe\n",
        "print('Linhas', cadastro.shape[0])\n",
        "print('Colunas', cadastro.shape[1])\n",
        "\n",
        "# Primeiras cinco linhas do dataframe\n",
        "cadastro.head()\n"
      ]
    },
    {
      "cell_type": "code",
      "execution_count": 4,
      "metadata": {
        "colab": {
          "base_uri": "https://localhost:8080/",
          "height": 241
        },
        "id": "o0UN0NMTmmsW",
        "outputId": "6a7b00dd-0a33-4478-ce4f-2a44d39ec93c"
      },
      "outputs": [
        {
          "name": "stdout",
          "output_type": "stream",
          "text": [
            "Linhas 20000\n",
            "Colunas 12\n"
          ]
        },
        {
          "data": {
            "text/html": [
              "<div>\n",
              "<style scoped>\n",
              "    .dataframe tbody tr th:only-of-type {\n",
              "        vertical-align: middle;\n",
              "    }\n",
              "\n",
              "    .dataframe tbody tr th {\n",
              "        vertical-align: top;\n",
              "    }\n",
              "\n",
              "    .dataframe thead th {\n",
              "        text-align: right;\n",
              "    }\n",
              "</style>\n",
              "<table border=\"1\" class=\"dataframe\">\n",
              "  <thead>\n",
              "    <tr style=\"text-align: right;\">\n",
              "      <th></th>\n",
              "      <th>id</th>\n",
              "      <th>Salario</th>\n",
              "      <th>Perfil</th>\n",
              "      <th>Ativo01</th>\n",
              "      <th>Ativo02</th>\n",
              "      <th>Ativo03</th>\n",
              "      <th>Ativo04</th>\n",
              "      <th>Ativo05</th>\n",
              "      <th>Ativo06</th>\n",
              "      <th>Ativo07</th>\n",
              "      <th>Nota1</th>\n",
              "      <th>Nota2</th>\n",
              "    </tr>\n",
              "  </thead>\n",
              "  <tbody>\n",
              "    <tr>\n",
              "      <th>0</th>\n",
              "      <td>id0011529</td>\n",
              "      <td>$2.25</td>\n",
              "      <td>Agressivo</td>\n",
              "      <td>1311.38</td>\n",
              "      <td>NaN</td>\n",
              "      <td>NaN</td>\n",
              "      <td>29267.48</td>\n",
              "      <td>4993.30</td>\n",
              "      <td>NaN</td>\n",
              "      <td>506.40</td>\n",
              "      <td>73.007216</td>\n",
              "      <td>30.025005</td>\n",
              "    </tr>\n",
              "    <tr>\n",
              "      <th>1</th>\n",
              "      <td>id0030644</td>\n",
              "      <td>$24.57</td>\n",
              "      <td>Agressivo</td>\n",
              "      <td>1007.38</td>\n",
              "      <td>4846.66</td>\n",
              "      <td>2717.82</td>\n",
              "      <td>12532.15</td>\n",
              "      <td>4282.98</td>\n",
              "      <td>NaN</td>\n",
              "      <td>499.93</td>\n",
              "      <td>20.000123</td>\n",
              "      <td>29.477728</td>\n",
              "    </tr>\n",
              "    <tr>\n",
              "      <th>2</th>\n",
              "      <td>id0019311</td>\n",
              "      <td>$367.53</td>\n",
              "      <td>Moderado</td>\n",
              "      <td>1128.99</td>\n",
              "      <td>4668.94</td>\n",
              "      <td>3092.60</td>\n",
              "      <td>9777.77</td>\n",
              "      <td>4246.30</td>\n",
              "      <td>2007.83</td>\n",
              "      <td>509.50</td>\n",
              "      <td>24.901450</td>\n",
              "      <td>49.659852</td>\n",
              "    </tr>\n",
              "    <tr>\n",
              "      <th>3</th>\n",
              "      <td>id0036705</td>\n",
              "      <td>$23.26</td>\n",
              "      <td>Moderado</td>\n",
              "      <td>1185.26</td>\n",
              "      <td>4782.17</td>\n",
              "      <td>2669.05</td>\n",
              "      <td>14047.87</td>\n",
              "      <td>6026.84</td>\n",
              "      <td>2064.09</td>\n",
              "      <td>489.82</td>\n",
              "      <td>14.246718</td>\n",
              "      <td>29.271206</td>\n",
              "    </tr>\n",
              "    <tr>\n",
              "      <th>4</th>\n",
              "      <td>id0001368</td>\n",
              "      <td>$6.31</td>\n",
              "      <td>Conservador</td>\n",
              "      <td>957.64</td>\n",
              "      <td>5585.52</td>\n",
              "      <td>NaN</td>\n",
              "      <td>5067.08</td>\n",
              "      <td>4030.51</td>\n",
              "      <td>2022.61</td>\n",
              "      <td>507.39</td>\n",
              "      <td>5.922253</td>\n",
              "      <td>11.840601</td>\n",
              "    </tr>\n",
              "  </tbody>\n",
              "</table>\n",
              "</div>"
            ],
            "text/plain": [
              "          id  Salario       Perfil  Ativo01  Ativo02  Ativo03   Ativo04  \\\n",
              "0  id0011529    $2.25    Agressivo  1311.38      NaN      NaN  29267.48   \n",
              "1  id0030644   $24.57    Agressivo  1007.38  4846.66  2717.82  12532.15   \n",
              "2  id0019311  $367.53     Moderado  1128.99  4668.94  3092.60   9777.77   \n",
              "3  id0036705   $23.26     Moderado  1185.26  4782.17  2669.05  14047.87   \n",
              "4  id0001368    $6.31  Conservador   957.64  5585.52      NaN   5067.08   \n",
              "\n",
              "   Ativo05  Ativo06  Ativo07      Nota1      Nota2  \n",
              "0  4993.30      NaN   506.40  73.007216  30.025005  \n",
              "1  4282.98      NaN   499.93  20.000123  29.477728  \n",
              "2  4246.30  2007.83   509.50  24.901450  49.659852  \n",
              "3  6026.84  2064.09   489.82  14.246718  29.271206  \n",
              "4  4030.51  2022.61   507.39   5.922253  11.840601  "
            ]
          },
          "execution_count": 4,
          "metadata": {},
          "output_type": "execute_result"
        }
      ],
      "source": [
        "# Print do número de linhas e colunas do dataframe\n",
        "print('Linhas', fin_01.shape[0])\n",
        "print('Colunas', fin_01.shape[1])\n",
        "\n",
        "# Primeiras cinco linhas do dataframe\n",
        "fin_01.head()"
      ]
    },
    {
      "cell_type": "code",
      "execution_count": 5,
      "metadata": {
        "colab": {
          "base_uri": "https://localhost:8080/",
          "height": 241
        },
        "id": "XyvKr4cammsW",
        "outputId": "2b864f9e-3766-4f22-cb73-b407b704a77e"
      },
      "outputs": [
        {
          "name": "stdout",
          "output_type": "stream",
          "text": [
            "Linhas 24052\n",
            "Colunas 12\n"
          ]
        },
        {
          "data": {
            "text/html": [
              "<div>\n",
              "<style scoped>\n",
              "    .dataframe tbody tr th:only-of-type {\n",
              "        vertical-align: middle;\n",
              "    }\n",
              "\n",
              "    .dataframe tbody tr th {\n",
              "        vertical-align: top;\n",
              "    }\n",
              "\n",
              "    .dataframe thead th {\n",
              "        text-align: right;\n",
              "    }\n",
              "</style>\n",
              "<table border=\"1\" class=\"dataframe\">\n",
              "  <thead>\n",
              "    <tr style=\"text-align: right;\">\n",
              "      <th></th>\n",
              "      <th>id</th>\n",
              "      <th>Salario</th>\n",
              "      <th>Perfil</th>\n",
              "      <th>Ativo01</th>\n",
              "      <th>Ativo02</th>\n",
              "      <th>Ativo03</th>\n",
              "      <th>Ativo04</th>\n",
              "      <th>Ativo05</th>\n",
              "      <th>Ativo06</th>\n",
              "      <th>Ativo07</th>\n",
              "      <th>Nota1</th>\n",
              "      <th>Nota2</th>\n",
              "    </tr>\n",
              "  </thead>\n",
              "  <tbody>\n",
              "    <tr>\n",
              "      <th>0</th>\n",
              "      <td>id0000859</td>\n",
              "      <td>$51483.81</td>\n",
              "      <td>Agressivo</td>\n",
              "      <td>1273.95</td>\n",
              "      <td>5080.37</td>\n",
              "      <td>3565.44</td>\n",
              "      <td>NaN</td>\n",
              "      <td>5635.72</td>\n",
              "      <td>NaN</td>\n",
              "      <td>513.38</td>\n",
              "      <td>47.599278</td>\n",
              "      <td>7.057028</td>\n",
              "    </tr>\n",
              "    <tr>\n",
              "      <th>1</th>\n",
              "      <td>id0022202</td>\n",
              "      <td>$457.43</td>\n",
              "      <td>Conservador</td>\n",
              "      <td>1121.09</td>\n",
              "      <td>4927.51</td>\n",
              "      <td>3911.58</td>\n",
              "      <td>5511.7</td>\n",
              "      <td>5593.40</td>\n",
              "      <td>NaN</td>\n",
              "      <td>497.28</td>\n",
              "      <td>37.353757</td>\n",
              "      <td>61.516665</td>\n",
              "    </tr>\n",
              "    <tr>\n",
              "      <th>2</th>\n",
              "      <td>id0002056</td>\n",
              "      <td>$93245.46</td>\n",
              "      <td>Moderado</td>\n",
              "      <td>NaN</td>\n",
              "      <td>5283.71</td>\n",
              "      <td>2914.76</td>\n",
              "      <td>NaN</td>\n",
              "      <td>4707.33</td>\n",
              "      <td>NaN</td>\n",
              "      <td>499.06</td>\n",
              "      <td>98.895407</td>\n",
              "      <td>45.197866</td>\n",
              "    </tr>\n",
              "    <tr>\n",
              "      <th>3</th>\n",
              "      <td>id0005674</td>\n",
              "      <td>$3044.00</td>\n",
              "      <td>Agressivo</td>\n",
              "      <td>1353.76</td>\n",
              "      <td>5827.28</td>\n",
              "      <td>2998.24</td>\n",
              "      <td>16341.7</td>\n",
              "      <td>4712.65</td>\n",
              "      <td>2007.44</td>\n",
              "      <td>515.10</td>\n",
              "      <td>50.658089</td>\n",
              "      <td>65.660735</td>\n",
              "    </tr>\n",
              "    <tr>\n",
              "      <th>4</th>\n",
              "      <td>id0004777</td>\n",
              "      <td>$880.30</td>\n",
              "      <td>Agressivo</td>\n",
              "      <td>NaN</td>\n",
              "      <td>5695.77</td>\n",
              "      <td>3525.98</td>\n",
              "      <td>NaN</td>\n",
              "      <td>4147.29</td>\n",
              "      <td>NaN</td>\n",
              "      <td>506.77</td>\n",
              "      <td>72.993882</td>\n",
              "      <td>55.530580</td>\n",
              "    </tr>\n",
              "  </tbody>\n",
              "</table>\n",
              "</div>"
            ],
            "text/plain": [
              "          id    Salario       Perfil  Ativo01  Ativo02  Ativo03  Ativo04  \\\n",
              "0  id0000859  $51483.81    Agressivo  1273.95  5080.37  3565.44      NaN   \n",
              "1  id0022202    $457.43  Conservador  1121.09  4927.51  3911.58   5511.7   \n",
              "2  id0002056  $93245.46     Moderado      NaN  5283.71  2914.76      NaN   \n",
              "3  id0005674   $3044.00    Agressivo  1353.76  5827.28  2998.24  16341.7   \n",
              "4  id0004777    $880.30    Agressivo      NaN  5695.77  3525.98      NaN   \n",
              "\n",
              "   Ativo05  Ativo06  Ativo07      Nota1      Nota2  \n",
              "0  5635.72      NaN   513.38  47.599278   7.057028  \n",
              "1  5593.40      NaN   497.28  37.353757  61.516665  \n",
              "2  4707.33      NaN   499.06  98.895407  45.197866  \n",
              "3  4712.65  2007.44   515.10  50.658089  65.660735  \n",
              "4  4147.29      NaN   506.77  72.993882  55.530580  "
            ]
          },
          "execution_count": 5,
          "metadata": {},
          "output_type": "execute_result"
        }
      ],
      "source": [
        "# Print do número de linhas e colunas do dataframe\n",
        "print('Linhas', fin_02.shape[0])\n",
        "print('Colunas', fin_02.shape[1])\n",
        "\n",
        "# Primeiras cinco linhas do dataframe\n",
        "fin_02.head()"
      ]
    },
    {
      "cell_type": "code",
      "execution_count": 6,
      "metadata": {
        "colab": {
          "base_uri": "https://localhost:8080/"
        },
        "id": "U9UDFd1kmmsX",
        "outputId": "a3a2dfaf-3c0b-42da-c7fc-e8a7ca21c2db"
      },
      "outputs": [
        {
          "name": "stdout",
          "output_type": "stream",
          "text": [
            "<class 'pandas.core.frame.DataFrame'>\n",
            "RangeIndex: 38754 entries, 0 to 38753\n",
            "Data columns (total 9 columns):\n",
            " #   Column    Non-Null Count  Dtype \n",
            "---  ------    --------------  ----- \n",
            " 0   id        38754 non-null  object\n",
            " 1   Nome      38754 non-null  object\n",
            " 2   Sexo      38754 non-null  object\n",
            " 3   Nasc      38754 non-null  object\n",
            " 4   Idade     38754 non-null  int64 \n",
            " 5   Email     38754 non-null  object\n",
            " 6   Lat_long  38754 non-null  object\n",
            " 7   Job       38754 non-null  object\n",
            " 8   Estado    38754 non-null  object\n",
            "dtypes: int64(1), object(8)\n",
            "memory usage: 2.7+ MB\n"
          ]
        }
      ],
      "source": [
        "# Informações gerais sobre a base de dados cadastros\n",
        "\n",
        "cadastro.info()"
      ]
    },
    {
      "cell_type": "code",
      "execution_count": 7,
      "metadata": {
        "colab": {
          "base_uri": "https://localhost:8080/"
        },
        "id": "eSMo6etfmmsX",
        "outputId": "3516766c-dc48-4a35-d966-147321b476c8"
      },
      "outputs": [
        {
          "name": "stdout",
          "output_type": "stream",
          "text": [
            "<class 'pandas.core.frame.DataFrame'>\n",
            "RangeIndex: 20000 entries, 0 to 19999\n",
            "Data columns (total 12 columns):\n",
            " #   Column   Non-Null Count  Dtype  \n",
            "---  ------   --------------  -----  \n",
            " 0   id       20000 non-null  object \n",
            " 1   Salario  20000 non-null  object \n",
            " 2   Perfil   20000 non-null  object \n",
            " 3   Ativo01  15012 non-null  float64\n",
            " 4   Ativo02  16857 non-null  float64\n",
            " 5   Ativo03  16760 non-null  float64\n",
            " 6   Ativo04  13799 non-null  float64\n",
            " 7   Ativo05  16829 non-null  float64\n",
            " 8   Ativo06  9895 non-null   float64\n",
            " 9   Ativo07  20000 non-null  float64\n",
            " 10  Nota1    18469 non-null  float64\n",
            " 11  Nota2    18954 non-null  float64\n",
            "dtypes: float64(9), object(3)\n",
            "memory usage: 1.8+ MB\n"
          ]
        }
      ],
      "source": [
        "# Informações gerais sobre a base de dados investimento_1\n",
        "\n",
        "fin_01.info()"
      ]
    },
    {
      "cell_type": "code",
      "execution_count": 8,
      "metadata": {
        "colab": {
          "base_uri": "https://localhost:8080/"
        },
        "id": "uLcsy46XmmsY",
        "outputId": "a5c73cfd-76fe-4600-b818-8fce0734dc21"
      },
      "outputs": [
        {
          "name": "stdout",
          "output_type": "stream",
          "text": [
            "<class 'pandas.core.frame.DataFrame'>\n",
            "RangeIndex: 24052 entries, 0 to 24051\n",
            "Data columns (total 12 columns):\n",
            " #   Column   Non-Null Count  Dtype  \n",
            "---  ------   --------------  -----  \n",
            " 0   id       24052 non-null  object \n",
            " 1   Salario  24052 non-null  object \n",
            " 2   Perfil   24052 non-null  object \n",
            " 3   Ativo01  17994 non-null  float64\n",
            " 4   Ativo02  20245 non-null  float64\n",
            " 5   Ativo03  20249 non-null  float64\n",
            " 6   Ativo04  16685 non-null  float64\n",
            " 7   Ativo05  20211 non-null  float64\n",
            " 8   Ativo06  11932 non-null  float64\n",
            " 9   Ativo07  24052 non-null  float64\n",
            " 10  Nota1    22172 non-null  float64\n",
            " 11  Nota2    22810 non-null  float64\n",
            "dtypes: float64(9), object(3)\n",
            "memory usage: 2.2+ MB\n"
          ]
        }
      ],
      "source": [
        "# Informações gerais sobre a base de dados investimento_2\n",
        "\n",
        "fin_02.info()"
      ]
    },
    {
      "cell_type": "code",
      "execution_count": 9,
      "metadata": {
        "colab": {
          "base_uri": "https://localhost:8080/",
          "height": 81
        },
        "id": "TgWaYNFtmmsY",
        "outputId": "ecd714d6-9901-4d86-bad3-692b34d9e7dd"
      },
      "outputs": [
        {
          "data": {
            "text/html": [
              "<div>\n",
              "<style scoped>\n",
              "    .dataframe tbody tr th:only-of-type {\n",
              "        vertical-align: middle;\n",
              "    }\n",
              "\n",
              "    .dataframe tbody tr th {\n",
              "        vertical-align: top;\n",
              "    }\n",
              "\n",
              "    .dataframe thead th {\n",
              "        text-align: right;\n",
              "    }\n",
              "</style>\n",
              "<table border=\"1\" class=\"dataframe\">\n",
              "  <thead>\n",
              "    <tr style=\"text-align: right;\">\n",
              "      <th></th>\n",
              "      <th>count</th>\n",
              "      <th>mean</th>\n",
              "      <th>std</th>\n",
              "      <th>min</th>\n",
              "      <th>25%</th>\n",
              "      <th>50%</th>\n",
              "      <th>75%</th>\n",
              "      <th>max</th>\n",
              "    </tr>\n",
              "  </thead>\n",
              "  <tbody>\n",
              "    <tr>\n",
              "      <th>Idade</th>\n",
              "      <td>38754.0</td>\n",
              "      <td>25.716855</td>\n",
              "      <td>14.918449</td>\n",
              "      <td>0.0</td>\n",
              "      <td>13.0</td>\n",
              "      <td>26.0</td>\n",
              "      <td>39.0</td>\n",
              "      <td>51.0</td>\n",
              "    </tr>\n",
              "  </tbody>\n",
              "</table>\n",
              "</div>"
            ],
            "text/plain": [
              "         count       mean        std  min   25%   50%   75%   max\n",
              "Idade  38754.0  25.716855  14.918449  0.0  13.0  26.0  39.0  51.0"
            ]
          },
          "execution_count": 9,
          "metadata": {},
          "output_type": "execute_result"
        }
      ],
      "source": [
        "# Algumas informações sobre os dados de cadastro\n",
        "cadastro.describe().T"
      ]
    },
    {
      "cell_type": "code",
      "execution_count": 10,
      "metadata": {
        "colab": {
          "base_uri": "https://localhost:8080/",
          "height": 269
        },
        "id": "sXRbKKN3mmsY",
        "outputId": "3d385cec-9497-4cab-ccee-d4db60ab1710"
      },
      "outputs": [
        {
          "data": {
            "text/html": [
              "<div>\n",
              "<style scoped>\n",
              "    .dataframe tbody tr th:only-of-type {\n",
              "        vertical-align: middle;\n",
              "    }\n",
              "\n",
              "    .dataframe tbody tr th {\n",
              "        vertical-align: top;\n",
              "    }\n",
              "\n",
              "    .dataframe thead th {\n",
              "        text-align: right;\n",
              "    }\n",
              "</style>\n",
              "<table border=\"1\" class=\"dataframe\">\n",
              "  <thead>\n",
              "    <tr style=\"text-align: right;\">\n",
              "      <th></th>\n",
              "      <th>count</th>\n",
              "      <th>unique</th>\n",
              "      <th>top</th>\n",
              "      <th>freq</th>\n",
              "    </tr>\n",
              "  </thead>\n",
              "  <tbody>\n",
              "    <tr>\n",
              "      <th>id</th>\n",
              "      <td>38754</td>\n",
              "      <td>38754</td>\n",
              "      <td>id0000001</td>\n",
              "      <td>1</td>\n",
              "    </tr>\n",
              "    <tr>\n",
              "      <th>Nome</th>\n",
              "      <td>38754</td>\n",
              "      <td>38285</td>\n",
              "      <td>Ana da Silva</td>\n",
              "      <td>8</td>\n",
              "    </tr>\n",
              "    <tr>\n",
              "      <th>Sexo</th>\n",
              "      <td>38754</td>\n",
              "      <td>2</td>\n",
              "      <td>Fem</td>\n",
              "      <td>19385</td>\n",
              "    </tr>\n",
              "    <tr>\n",
              "      <th>Nasc</th>\n",
              "      <td>38754</td>\n",
              "      <td>16399</td>\n",
              "      <td>1997-04-25</td>\n",
              "      <td>10</td>\n",
              "    </tr>\n",
              "    <tr>\n",
              "      <th>Email</th>\n",
              "      <td>38754</td>\n",
              "      <td>36008</td>\n",
              "      <td>jjohnson@hotmail.com</td>\n",
              "      <td>7</td>\n",
              "    </tr>\n",
              "    <tr>\n",
              "      <th>Job</th>\n",
              "      <td>38754</td>\n",
              "      <td>639</td>\n",
              "      <td>Tax inspector</td>\n",
              "      <td>84</td>\n",
              "    </tr>\n",
              "    <tr>\n",
              "      <th>Estado</th>\n",
              "      <td>38754</td>\n",
              "      <td>27</td>\n",
              "      <td>PI</td>\n",
              "      <td>1503</td>\n",
              "    </tr>\n",
              "  </tbody>\n",
              "</table>\n",
              "</div>"
            ],
            "text/plain": [
              "        count unique                   top   freq\n",
              "id      38754  38754             id0000001      1\n",
              "Nome    38754  38285          Ana da Silva      8\n",
              "Sexo    38754      2                   Fem  19385\n",
              "Nasc    38754  16399            1997-04-25     10\n",
              "Email   38754  36008  jjohnson@hotmail.com      7\n",
              "Job     38754    639         Tax inspector     84\n",
              "Estado  38754     27                    PI   1503"
            ]
          },
          "execution_count": 10,
          "metadata": {},
          "output_type": "execute_result"
        }
      ],
      "source": [
        "cadastro.drop(axis=1, columns=['Lat_long']).describe(exclude=['int64']).T"
      ]
    },
    {
      "cell_type": "code",
      "execution_count": 11,
      "metadata": {
        "colab": {
          "base_uri": "https://localhost:8080/",
          "height": 332
        },
        "id": "jt7UGlnGmmsZ",
        "outputId": "e0034d06-1535-4a77-9e31-a3c8deee3007"
      },
      "outputs": [
        {
          "data": {
            "text/html": [
              "<div>\n",
              "<style scoped>\n",
              "    .dataframe tbody tr th:only-of-type {\n",
              "        vertical-align: middle;\n",
              "    }\n",
              "\n",
              "    .dataframe tbody tr th {\n",
              "        vertical-align: top;\n",
              "    }\n",
              "\n",
              "    .dataframe thead th {\n",
              "        text-align: right;\n",
              "    }\n",
              "</style>\n",
              "<table border=\"1\" class=\"dataframe\">\n",
              "  <thead>\n",
              "    <tr style=\"text-align: right;\">\n",
              "      <th></th>\n",
              "      <th>count</th>\n",
              "      <th>mean</th>\n",
              "      <th>std</th>\n",
              "      <th>min</th>\n",
              "      <th>25%</th>\n",
              "      <th>50%</th>\n",
              "      <th>75%</th>\n",
              "      <th>max</th>\n",
              "    </tr>\n",
              "  </thead>\n",
              "  <tbody>\n",
              "    <tr>\n",
              "      <th>Ativo01</th>\n",
              "      <td>15012.0</td>\n",
              "      <td>1125.757681</td>\n",
              "      <td>217.080495</td>\n",
              "      <td>800.070000</td>\n",
              "      <td>954.525000</td>\n",
              "      <td>1093.145000</td>\n",
              "      <td>1262.155000</td>\n",
              "      <td>2068.590000</td>\n",
              "    </tr>\n",
              "    <tr>\n",
              "      <th>Ativo02</th>\n",
              "      <td>16857.0</td>\n",
              "      <td>5148.243110</td>\n",
              "      <td>398.701012</td>\n",
              "      <td>4500.090000</td>\n",
              "      <td>4833.260000</td>\n",
              "      <td>5107.230000</td>\n",
              "      <td>5407.630000</td>\n",
              "      <td>6817.340000</td>\n",
              "    </tr>\n",
              "    <tr>\n",
              "      <th>Ativo03</th>\n",
              "      <td>16760.0</td>\n",
              "      <td>3139.165891</td>\n",
              "      <td>394.175941</td>\n",
              "      <td>2500.010000</td>\n",
              "      <td>2829.085000</td>\n",
              "      <td>3096.020000</td>\n",
              "      <td>3395.200000</td>\n",
              "      <td>5212.550000</td>\n",
              "    </tr>\n",
              "    <tr>\n",
              "      <th>Ativo04</th>\n",
              "      <td>13799.0</td>\n",
              "      <td>15136.440041</td>\n",
              "      <td>6946.544888</td>\n",
              "      <td>5000.810000</td>\n",
              "      <td>9678.280000</td>\n",
              "      <td>14070.350000</td>\n",
              "      <td>19424.205000</td>\n",
              "      <td>47467.730000</td>\n",
              "    </tr>\n",
              "    <tr>\n",
              "      <th>Ativo05</th>\n",
              "      <td>16829.0</td>\n",
              "      <td>5281.172070</td>\n",
              "      <td>792.562796</td>\n",
              "      <td>4000.140000</td>\n",
              "      <td>4654.050000</td>\n",
              "      <td>5197.220000</td>\n",
              "      <td>5800.460000</td>\n",
              "      <td>9052.260000</td>\n",
              "    </tr>\n",
              "    <tr>\n",
              "      <th>Ativo06</th>\n",
              "      <td>9895.0</td>\n",
              "      <td>2317.491907</td>\n",
              "      <td>239.180603</td>\n",
              "      <td>2000.040000</td>\n",
              "      <td>2127.395000</td>\n",
              "      <td>2270.870000</td>\n",
              "      <td>2455.335000</td>\n",
              "      <td>3610.050000</td>\n",
              "    </tr>\n",
              "    <tr>\n",
              "      <th>Ativo07</th>\n",
              "      <td>20000.0</td>\n",
              "      <td>500.093471</td>\n",
              "      <td>10.012402</td>\n",
              "      <td>462.930000</td>\n",
              "      <td>493.320000</td>\n",
              "      <td>500.130000</td>\n",
              "      <td>506.892500</td>\n",
              "      <td>542.050000</td>\n",
              "    </tr>\n",
              "    <tr>\n",
              "      <th>Nota1</th>\n",
              "      <td>18469.0</td>\n",
              "      <td>50.098208</td>\n",
              "      <td>28.952396</td>\n",
              "      <td>0.003143</td>\n",
              "      <td>25.020373</td>\n",
              "      <td>50.119452</td>\n",
              "      <td>75.238847</td>\n",
              "      <td>99.996659</td>\n",
              "    </tr>\n",
              "    <tr>\n",
              "      <th>Nota2</th>\n",
              "      <td>18954.0</td>\n",
              "      <td>50.174113</td>\n",
              "      <td>28.832285</td>\n",
              "      <td>0.007864</td>\n",
              "      <td>25.134177</td>\n",
              "      <td>50.242237</td>\n",
              "      <td>74.877627</td>\n",
              "      <td>99.991247</td>\n",
              "    </tr>\n",
              "  </tbody>\n",
              "</table>\n",
              "</div>"
            ],
            "text/plain": [
              "           count          mean          std          min          25%  \\\n",
              "Ativo01  15012.0   1125.757681   217.080495   800.070000   954.525000   \n",
              "Ativo02  16857.0   5148.243110   398.701012  4500.090000  4833.260000   \n",
              "Ativo03  16760.0   3139.165891   394.175941  2500.010000  2829.085000   \n",
              "Ativo04  13799.0  15136.440041  6946.544888  5000.810000  9678.280000   \n",
              "Ativo05  16829.0   5281.172070   792.562796  4000.140000  4654.050000   \n",
              "Ativo06   9895.0   2317.491907   239.180603  2000.040000  2127.395000   \n",
              "Ativo07  20000.0    500.093471    10.012402   462.930000   493.320000   \n",
              "Nota1    18469.0     50.098208    28.952396     0.003143    25.020373   \n",
              "Nota2    18954.0     50.174113    28.832285     0.007864    25.134177   \n",
              "\n",
              "                  50%           75%           max  \n",
              "Ativo01   1093.145000   1262.155000   2068.590000  \n",
              "Ativo02   5107.230000   5407.630000   6817.340000  \n",
              "Ativo03   3096.020000   3395.200000   5212.550000  \n",
              "Ativo04  14070.350000  19424.205000  47467.730000  \n",
              "Ativo05   5197.220000   5800.460000   9052.260000  \n",
              "Ativo06   2270.870000   2455.335000   3610.050000  \n",
              "Ativo07    500.130000    506.892500    542.050000  \n",
              "Nota1       50.119452     75.238847     99.996659  \n",
              "Nota2       50.242237     74.877627     99.991247  "
            ]
          },
          "execution_count": 11,
          "metadata": {},
          "output_type": "execute_result"
        }
      ],
      "source": [
        "# Algumas informações sobre os dados de investimento_1\n",
        "fin_01.describe(exclude='object').T"
      ]
    },
    {
      "cell_type": "code",
      "execution_count": 12,
      "metadata": {
        "colab": {
          "base_uri": "https://localhost:8080/",
          "height": 143
        },
        "id": "2HNAog6lmmsZ",
        "outputId": "fcc4eb83-7073-4a95-ceeb-9dab420163f5"
      },
      "outputs": [
        {
          "data": {
            "text/html": [
              "<div>\n",
              "<style scoped>\n",
              "    .dataframe tbody tr th:only-of-type {\n",
              "        vertical-align: middle;\n",
              "    }\n",
              "\n",
              "    .dataframe tbody tr th {\n",
              "        vertical-align: top;\n",
              "    }\n",
              "\n",
              "    .dataframe thead th {\n",
              "        text-align: right;\n",
              "    }\n",
              "</style>\n",
              "<table border=\"1\" class=\"dataframe\">\n",
              "  <thead>\n",
              "    <tr style=\"text-align: right;\">\n",
              "      <th></th>\n",
              "      <th>count</th>\n",
              "      <th>unique</th>\n",
              "      <th>top</th>\n",
              "      <th>freq</th>\n",
              "    </tr>\n",
              "  </thead>\n",
              "  <tbody>\n",
              "    <tr>\n",
              "      <th>id</th>\n",
              "      <td>20000</td>\n",
              "      <td>20000</td>\n",
              "      <td>id0011529</td>\n",
              "      <td>1</td>\n",
              "    </tr>\n",
              "    <tr>\n",
              "      <th>Salario</th>\n",
              "      <td>20000</td>\n",
              "      <td>16109</td>\n",
              "      <td>$3.50</td>\n",
              "      <td>11</td>\n",
              "    </tr>\n",
              "    <tr>\n",
              "      <th>Perfil</th>\n",
              "      <td>20000</td>\n",
              "      <td>3</td>\n",
              "      <td>Moderado</td>\n",
              "      <td>6692</td>\n",
              "    </tr>\n",
              "  </tbody>\n",
              "</table>\n",
              "</div>"
            ],
            "text/plain": [
              "         count unique        top  freq\n",
              "id       20000  20000  id0011529     1\n",
              "Salario  20000  16109      $3.50    11\n",
              "Perfil   20000      3   Moderado  6692"
            ]
          },
          "execution_count": 12,
          "metadata": {},
          "output_type": "execute_result"
        }
      ],
      "source": [
        "fin_01.describe(exclude='float').T"
      ]
    },
    {
      "cell_type": "code",
      "execution_count": 13,
      "metadata": {
        "colab": {
          "base_uri": "https://localhost:8080/",
          "height": 332
        },
        "id": "noEY-XeFmmsa",
        "outputId": "58642100-1946-4fe5-a395-0b0463ed73d4"
      },
      "outputs": [
        {
          "data": {
            "text/html": [
              "<div>\n",
              "<style scoped>\n",
              "    .dataframe tbody tr th:only-of-type {\n",
              "        vertical-align: middle;\n",
              "    }\n",
              "\n",
              "    .dataframe tbody tr th {\n",
              "        vertical-align: top;\n",
              "    }\n",
              "\n",
              "    .dataframe thead th {\n",
              "        text-align: right;\n",
              "    }\n",
              "</style>\n",
              "<table border=\"1\" class=\"dataframe\">\n",
              "  <thead>\n",
              "    <tr style=\"text-align: right;\">\n",
              "      <th></th>\n",
              "      <th>count</th>\n",
              "      <th>mean</th>\n",
              "      <th>std</th>\n",
              "      <th>min</th>\n",
              "      <th>25%</th>\n",
              "      <th>50%</th>\n",
              "      <th>75%</th>\n",
              "      <th>max</th>\n",
              "    </tr>\n",
              "  </thead>\n",
              "  <tbody>\n",
              "    <tr>\n",
              "      <th>Ativo01</th>\n",
              "      <td>17994.0</td>\n",
              "      <td>1129.080980</td>\n",
              "      <td>219.747037</td>\n",
              "      <td>800.010000</td>\n",
              "      <td>955.027500</td>\n",
              "      <td>1096.395000</td>\n",
              "      <td>1269.760000</td>\n",
              "      <td>2143.050000</td>\n",
              "    </tr>\n",
              "    <tr>\n",
              "      <th>Ativo02</th>\n",
              "      <td>20245.0</td>\n",
              "      <td>5146.837462</td>\n",
              "      <td>398.977137</td>\n",
              "      <td>4500.050000</td>\n",
              "      <td>4831.890000</td>\n",
              "      <td>5101.630000</td>\n",
              "      <td>5409.750000</td>\n",
              "      <td>6990.260000</td>\n",
              "    </tr>\n",
              "    <tr>\n",
              "      <th>Ativo03</th>\n",
              "      <td>20249.0</td>\n",
              "      <td>3141.053559</td>\n",
              "      <td>396.580165</td>\n",
              "      <td>2500.010000</td>\n",
              "      <td>2827.840000</td>\n",
              "      <td>3097.070000</td>\n",
              "      <td>3403.260000</td>\n",
              "      <td>4899.990000</td>\n",
              "    </tr>\n",
              "    <tr>\n",
              "      <th>Ativo04</th>\n",
              "      <td>16685.0</td>\n",
              "      <td>15163.012785</td>\n",
              "      <td>6993.738051</td>\n",
              "      <td>5000.930000</td>\n",
              "      <td>9621.090000</td>\n",
              "      <td>14090.430000</td>\n",
              "      <td>19517.340000</td>\n",
              "      <td>48744.740000</td>\n",
              "    </tr>\n",
              "    <tr>\n",
              "      <th>Ativo05</th>\n",
              "      <td>20211.0</td>\n",
              "      <td>5286.059975</td>\n",
              "      <td>796.892363</td>\n",
              "      <td>4000.250000</td>\n",
              "      <td>4654.300000</td>\n",
              "      <td>5199.610000</td>\n",
              "      <td>5805.705000</td>\n",
              "      <td>9052.260000</td>\n",
              "    </tr>\n",
              "    <tr>\n",
              "      <th>Ativo06</th>\n",
              "      <td>11932.0</td>\n",
              "      <td>2320.358866</td>\n",
              "      <td>241.972481</td>\n",
              "      <td>2000.040000</td>\n",
              "      <td>2128.885000</td>\n",
              "      <td>2270.135000</td>\n",
              "      <td>2464.085000</td>\n",
              "      <td>3639.650000</td>\n",
              "    </tr>\n",
              "    <tr>\n",
              "      <th>Ativo07</th>\n",
              "      <td>24052.0</td>\n",
              "      <td>500.019744</td>\n",
              "      <td>9.977632</td>\n",
              "      <td>462.930000</td>\n",
              "      <td>493.260000</td>\n",
              "      <td>500.120000</td>\n",
              "      <td>506.760000</td>\n",
              "      <td>542.300000</td>\n",
              "    </tr>\n",
              "    <tr>\n",
              "      <th>Nota1</th>\n",
              "      <td>22172.0</td>\n",
              "      <td>49.654722</td>\n",
              "      <td>28.913037</td>\n",
              "      <td>0.003143</td>\n",
              "      <td>24.767894</td>\n",
              "      <td>49.198346</td>\n",
              "      <td>74.880010</td>\n",
              "      <td>99.991343</td>\n",
              "    </tr>\n",
              "    <tr>\n",
              "      <th>Nota2</th>\n",
              "      <td>22810.0</td>\n",
              "      <td>49.973616</td>\n",
              "      <td>28.935261</td>\n",
              "      <td>0.003341</td>\n",
              "      <td>25.015850</td>\n",
              "      <td>49.747230</td>\n",
              "      <td>75.164789</td>\n",
              "      <td>99.999535</td>\n",
              "    </tr>\n",
              "  </tbody>\n",
              "</table>\n",
              "</div>"
            ],
            "text/plain": [
              "           count          mean          std          min          25%  \\\n",
              "Ativo01  17994.0   1129.080980   219.747037   800.010000   955.027500   \n",
              "Ativo02  20245.0   5146.837462   398.977137  4500.050000  4831.890000   \n",
              "Ativo03  20249.0   3141.053559   396.580165  2500.010000  2827.840000   \n",
              "Ativo04  16685.0  15163.012785  6993.738051  5000.930000  9621.090000   \n",
              "Ativo05  20211.0   5286.059975   796.892363  4000.250000  4654.300000   \n",
              "Ativo06  11932.0   2320.358866   241.972481  2000.040000  2128.885000   \n",
              "Ativo07  24052.0    500.019744     9.977632   462.930000   493.260000   \n",
              "Nota1    22172.0     49.654722    28.913037     0.003143    24.767894   \n",
              "Nota2    22810.0     49.973616    28.935261     0.003341    25.015850   \n",
              "\n",
              "                  50%           75%           max  \n",
              "Ativo01   1096.395000   1269.760000   2143.050000  \n",
              "Ativo02   5101.630000   5409.750000   6990.260000  \n",
              "Ativo03   3097.070000   3403.260000   4899.990000  \n",
              "Ativo04  14090.430000  19517.340000  48744.740000  \n",
              "Ativo05   5199.610000   5805.705000   9052.260000  \n",
              "Ativo06   2270.135000   2464.085000   3639.650000  \n",
              "Ativo07    500.120000    506.760000    542.300000  \n",
              "Nota1       49.198346     74.880010     99.991343  \n",
              "Nota2       49.747230     75.164789     99.999535  "
            ]
          },
          "execution_count": 13,
          "metadata": {},
          "output_type": "execute_result"
        }
      ],
      "source": [
        "# Algumas informações sobre os dados de investimento_2\n",
        "fin_02.describe(exclude='object').T"
      ]
    },
    {
      "cell_type": "code",
      "execution_count": 14,
      "metadata": {
        "colab": {
          "base_uri": "https://localhost:8080/",
          "height": 143
        },
        "id": "qHK_UsM6mmsa",
        "outputId": "75c3463e-49a7-40c6-9a0d-bcc5f527b0fd"
      },
      "outputs": [
        {
          "data": {
            "text/html": [
              "<div>\n",
              "<style scoped>\n",
              "    .dataframe tbody tr th:only-of-type {\n",
              "        vertical-align: middle;\n",
              "    }\n",
              "\n",
              "    .dataframe tbody tr th {\n",
              "        vertical-align: top;\n",
              "    }\n",
              "\n",
              "    .dataframe thead th {\n",
              "        text-align: right;\n",
              "    }\n",
              "</style>\n",
              "<table border=\"1\" class=\"dataframe\">\n",
              "  <thead>\n",
              "    <tr style=\"text-align: right;\">\n",
              "      <th></th>\n",
              "      <th>count</th>\n",
              "      <th>unique</th>\n",
              "      <th>top</th>\n",
              "      <th>freq</th>\n",
              "    </tr>\n",
              "  </thead>\n",
              "  <tbody>\n",
              "    <tr>\n",
              "      <th>id</th>\n",
              "      <td>24052</td>\n",
              "      <td>24052</td>\n",
              "      <td>id0000859</td>\n",
              "      <td>1</td>\n",
              "    </tr>\n",
              "    <tr>\n",
              "      <th>Salario</th>\n",
              "      <td>24052</td>\n",
              "      <td>19051</td>\n",
              "      <td>$3.08</td>\n",
              "      <td>14</td>\n",
              "    </tr>\n",
              "    <tr>\n",
              "      <th>Perfil</th>\n",
              "      <td>24052</td>\n",
              "      <td>3</td>\n",
              "      <td>Agressivo</td>\n",
              "      <td>8088</td>\n",
              "    </tr>\n",
              "  </tbody>\n",
              "</table>\n",
              "</div>"
            ],
            "text/plain": [
              "         count unique        top  freq\n",
              "id       24052  24052  id0000859     1\n",
              "Salario  24052  19051      $3.08    14\n",
              "Perfil   24052      3  Agressivo  8088"
            ]
          },
          "execution_count": 14,
          "metadata": {},
          "output_type": "execute_result"
        }
      ],
      "source": [
        "fin_02.describe(exclude='float').T"
      ]
    },
    {
      "cell_type": "markdown",
      "metadata": {
        "id": "X2zkP4Otmmsa"
      },
      "source": [
        "### 2 - Juntar os dataframes de investimento1 e investimento2 em um só e ver a quantidade de linhas"
      ]
    },
    {
      "cell_type": "code",
      "execution_count": 15,
      "metadata": {
        "colab": {
          "base_uri": "https://localhost:8080/",
          "height": 0
        },
        "id": "cDTXkLDBmmsa",
        "outputId": "058a1227-a0d4-4718-c29b-ee92877e525a"
      },
      "outputs": [
        {
          "data": {
            "text/html": [
              "<div>\n",
              "<style scoped>\n",
              "    .dataframe tbody tr th:only-of-type {\n",
              "        vertical-align: middle;\n",
              "    }\n",
              "\n",
              "    .dataframe tbody tr th {\n",
              "        vertical-align: top;\n",
              "    }\n",
              "\n",
              "    .dataframe thead th {\n",
              "        text-align: right;\n",
              "    }\n",
              "</style>\n",
              "<table border=\"1\" class=\"dataframe\">\n",
              "  <thead>\n",
              "    <tr style=\"text-align: right;\">\n",
              "      <th></th>\n",
              "      <th>id</th>\n",
              "      <th>Salario</th>\n",
              "      <th>Perfil</th>\n",
              "      <th>Ativo01</th>\n",
              "      <th>Ativo02</th>\n",
              "      <th>Ativo03</th>\n",
              "      <th>Ativo04</th>\n",
              "      <th>Ativo05</th>\n",
              "      <th>Ativo06</th>\n",
              "      <th>Ativo07</th>\n",
              "      <th>Nota1</th>\n",
              "      <th>Nota2</th>\n",
              "    </tr>\n",
              "  </thead>\n",
              "  <tbody>\n",
              "    <tr>\n",
              "      <th>0</th>\n",
              "      <td>id0011529</td>\n",
              "      <td>$2.25</td>\n",
              "      <td>Agressivo</td>\n",
              "      <td>1311.38</td>\n",
              "      <td>NaN</td>\n",
              "      <td>NaN</td>\n",
              "      <td>29267.48</td>\n",
              "      <td>4993.30</td>\n",
              "      <td>NaN</td>\n",
              "      <td>506.40</td>\n",
              "      <td>73.007216</td>\n",
              "      <td>30.025005</td>\n",
              "    </tr>\n",
              "    <tr>\n",
              "      <th>1</th>\n",
              "      <td>id0030644</td>\n",
              "      <td>$24.57</td>\n",
              "      <td>Agressivo</td>\n",
              "      <td>1007.38</td>\n",
              "      <td>4846.66</td>\n",
              "      <td>2717.82</td>\n",
              "      <td>12532.15</td>\n",
              "      <td>4282.98</td>\n",
              "      <td>NaN</td>\n",
              "      <td>499.93</td>\n",
              "      <td>20.000123</td>\n",
              "      <td>29.477728</td>\n",
              "    </tr>\n",
              "    <tr>\n",
              "      <th>2</th>\n",
              "      <td>id0019311</td>\n",
              "      <td>$367.53</td>\n",
              "      <td>Moderado</td>\n",
              "      <td>1128.99</td>\n",
              "      <td>4668.94</td>\n",
              "      <td>3092.60</td>\n",
              "      <td>9777.77</td>\n",
              "      <td>4246.30</td>\n",
              "      <td>2007.83</td>\n",
              "      <td>509.50</td>\n",
              "      <td>24.901450</td>\n",
              "      <td>49.659852</td>\n",
              "    </tr>\n",
              "    <tr>\n",
              "      <th>3</th>\n",
              "      <td>id0036705</td>\n",
              "      <td>$23.26</td>\n",
              "      <td>Moderado</td>\n",
              "      <td>1185.26</td>\n",
              "      <td>4782.17</td>\n",
              "      <td>2669.05</td>\n",
              "      <td>14047.87</td>\n",
              "      <td>6026.84</td>\n",
              "      <td>2064.09</td>\n",
              "      <td>489.82</td>\n",
              "      <td>14.246718</td>\n",
              "      <td>29.271206</td>\n",
              "    </tr>\n",
              "    <tr>\n",
              "      <th>4</th>\n",
              "      <td>id0001368</td>\n",
              "      <td>$6.31</td>\n",
              "      <td>Conservador</td>\n",
              "      <td>957.64</td>\n",
              "      <td>5585.52</td>\n",
              "      <td>NaN</td>\n",
              "      <td>5067.08</td>\n",
              "      <td>4030.51</td>\n",
              "      <td>2022.61</td>\n",
              "      <td>507.39</td>\n",
              "      <td>5.922253</td>\n",
              "      <td>11.840601</td>\n",
              "    </tr>\n",
              "    <tr>\n",
              "      <th>...</th>\n",
              "      <td>...</td>\n",
              "      <td>...</td>\n",
              "      <td>...</td>\n",
              "      <td>...</td>\n",
              "      <td>...</td>\n",
              "      <td>...</td>\n",
              "      <td>...</td>\n",
              "      <td>...</td>\n",
              "      <td>...</td>\n",
              "      <td>...</td>\n",
              "      <td>...</td>\n",
              "      <td>...</td>\n",
              "    </tr>\n",
              "    <tr>\n",
              "      <th>24047</th>\n",
              "      <td>id0018222</td>\n",
              "      <td>$615.87</td>\n",
              "      <td>Conservador</td>\n",
              "      <td>933.65</td>\n",
              "      <td>5741.80</td>\n",
              "      <td>4031.59</td>\n",
              "      <td>6336.84</td>\n",
              "      <td>NaN</td>\n",
              "      <td>NaN</td>\n",
              "      <td>486.19</td>\n",
              "      <td>NaN</td>\n",
              "      <td>34.151046</td>\n",
              "    </tr>\n",
              "    <tr>\n",
              "      <th>24048</th>\n",
              "      <td>id0005515</td>\n",
              "      <td>$212.76</td>\n",
              "      <td>Conservador</td>\n",
              "      <td>1624.80</td>\n",
              "      <td>NaN</td>\n",
              "      <td>2689.68</td>\n",
              "      <td>21886.01</td>\n",
              "      <td>4571.79</td>\n",
              "      <td>NaN</td>\n",
              "      <td>497.47</td>\n",
              "      <td>93.032164</td>\n",
              "      <td>93.621515</td>\n",
              "    </tr>\n",
              "    <tr>\n",
              "      <th>24049</th>\n",
              "      <td>id0009893</td>\n",
              "      <td>$9.32</td>\n",
              "      <td>Agressivo</td>\n",
              "      <td>829.20</td>\n",
              "      <td>NaN</td>\n",
              "      <td>3831.45</td>\n",
              "      <td>NaN</td>\n",
              "      <td>4784.34</td>\n",
              "      <td>2143.79</td>\n",
              "      <td>485.33</td>\n",
              "      <td>3.120521</td>\n",
              "      <td>9.086454</td>\n",
              "    </tr>\n",
              "    <tr>\n",
              "      <th>24050</th>\n",
              "      <td>id0016100</td>\n",
              "      <td>$81796.74</td>\n",
              "      <td>Conservador</td>\n",
              "      <td>1587.47</td>\n",
              "      <td>4881.66</td>\n",
              "      <td>4352.03</td>\n",
              "      <td>10391.18</td>\n",
              "      <td>4695.44</td>\n",
              "      <td>2465.65</td>\n",
              "      <td>492.84</td>\n",
              "      <td>95.665966</td>\n",
              "      <td>30.164927</td>\n",
              "    </tr>\n",
              "    <tr>\n",
              "      <th>24051</th>\n",
              "      <td>id0027880</td>\n",
              "      <td>$38480.37</td>\n",
              "      <td>Agressivo</td>\n",
              "      <td>996.90</td>\n",
              "      <td>5604.43</td>\n",
              "      <td>2801.04</td>\n",
              "      <td>9183.62</td>\n",
              "      <td>6220.96</td>\n",
              "      <td>NaN</td>\n",
              "      <td>503.24</td>\n",
              "      <td>55.035639</td>\n",
              "      <td>57.691996</td>\n",
              "    </tr>\n",
              "  </tbody>\n",
              "</table>\n",
              "<p>44052 rows × 12 columns</p>\n",
              "</div>"
            ],
            "text/plain": [
              "              id    Salario       Perfil  Ativo01  Ativo02  Ativo03   Ativo04  \\\n",
              "0      id0011529      $2.25    Agressivo  1311.38      NaN      NaN  29267.48   \n",
              "1      id0030644     $24.57    Agressivo  1007.38  4846.66  2717.82  12532.15   \n",
              "2      id0019311    $367.53     Moderado  1128.99  4668.94  3092.60   9777.77   \n",
              "3      id0036705     $23.26     Moderado  1185.26  4782.17  2669.05  14047.87   \n",
              "4      id0001368      $6.31  Conservador   957.64  5585.52      NaN   5067.08   \n",
              "...          ...        ...          ...      ...      ...      ...       ...   \n",
              "24047  id0018222    $615.87  Conservador   933.65  5741.80  4031.59   6336.84   \n",
              "24048  id0005515    $212.76  Conservador  1624.80      NaN  2689.68  21886.01   \n",
              "24049  id0009893      $9.32    Agressivo   829.20      NaN  3831.45       NaN   \n",
              "24050  id0016100  $81796.74  Conservador  1587.47  4881.66  4352.03  10391.18   \n",
              "24051  id0027880  $38480.37    Agressivo   996.90  5604.43  2801.04   9183.62   \n",
              "\n",
              "       Ativo05  Ativo06  Ativo07      Nota1      Nota2  \n",
              "0      4993.30      NaN   506.40  73.007216  30.025005  \n",
              "1      4282.98      NaN   499.93  20.000123  29.477728  \n",
              "2      4246.30  2007.83   509.50  24.901450  49.659852  \n",
              "3      6026.84  2064.09   489.82  14.246718  29.271206  \n",
              "4      4030.51  2022.61   507.39   5.922253  11.840601  \n",
              "...        ...      ...      ...        ...        ...  \n",
              "24047      NaN      NaN   486.19        NaN  34.151046  \n",
              "24048  4571.79      NaN   497.47  93.032164  93.621515  \n",
              "24049  4784.34  2143.79   485.33   3.120521   9.086454  \n",
              "24050  4695.44  2465.65   492.84  95.665966  30.164927  \n",
              "24051  6220.96      NaN   503.24  55.035639  57.691996  \n",
              "\n",
              "[44052 rows x 12 columns]"
            ]
          },
          "execution_count": 15,
          "metadata": {},
          "output_type": "execute_result"
        }
      ],
      "source": [
        "#Concatenação ou empilhamento vertical\n",
        "financeiro = pd.concat([fin_01, fin_02])\n",
        "financeiro"
      ]
    },
    {
      "cell_type": "code",
      "execution_count": 16,
      "metadata": {
        "colab": {
          "base_uri": "https://localhost:8080/"
        },
        "id": "rr5kzr6Jmmsb",
        "outputId": "879bd07d-2266-44fb-b13b-a7f60aeb9780"
      },
      "outputs": [
        {
          "name": "stdout",
          "output_type": "stream",
          "text": [
            "Linhas 44052\n",
            "Colunas 12\n"
          ]
        }
      ],
      "source": [
        "print('Linhas', financeiro.shape[0])\n",
        "print('Colunas', financeiro.shape[1])"
      ]
    },
    {
      "cell_type": "markdown",
      "metadata": {
        "id": "h4VYbG_Smmsb"
      },
      "source": [
        "### 3- Crie um novo dataframe eliminando as linhas duplicadas"
      ]
    },
    {
      "cell_type": "code",
      "execution_count": 17,
      "metadata": {
        "colab": {
          "base_uri": "https://localhost:8080/"
        },
        "id": "7faR_GfOmmsb",
        "outputId": "1658ab70-7807-4c7f-eee7-6e541e55c4e3"
      },
      "outputs": [
        {
          "data": {
            "text/plain": [
              "(5298, 12)"
            ]
          },
          "execution_count": 17,
          "metadata": {},
          "output_type": "execute_result"
        }
      ],
      "source": [
        "# Aqui temos as linhas duplicadas do dataframe financeiro\n",
        "colunas_duplicadas = financeiro[financeiro.duplicated()]\n",
        "colunas_duplicadas.shape"
      ]
    },
    {
      "cell_type": "code",
      "execution_count": 18,
      "metadata": {
        "colab": {
          "base_uri": "https://localhost:8080/",
          "height": 0
        },
        "id": "boG364dVmmsb",
        "outputId": "ee99c893-7323-4a9c-e0b3-76f70301e659"
      },
      "outputs": [
        {
          "data": {
            "text/html": [
              "<div>\n",
              "<style scoped>\n",
              "    .dataframe tbody tr th:only-of-type {\n",
              "        vertical-align: middle;\n",
              "    }\n",
              "\n",
              "    .dataframe tbody tr th {\n",
              "        vertical-align: top;\n",
              "    }\n",
              "\n",
              "    .dataframe thead th {\n",
              "        text-align: right;\n",
              "    }\n",
              "</style>\n",
              "<table border=\"1\" class=\"dataframe\">\n",
              "  <thead>\n",
              "    <tr style=\"text-align: right;\">\n",
              "      <th></th>\n",
              "      <th>id</th>\n",
              "      <th>Salario</th>\n",
              "      <th>Perfil</th>\n",
              "      <th>Ativo01</th>\n",
              "      <th>Ativo02</th>\n",
              "      <th>Ativo03</th>\n",
              "      <th>Ativo04</th>\n",
              "      <th>Ativo05</th>\n",
              "      <th>Ativo06</th>\n",
              "      <th>Ativo07</th>\n",
              "      <th>Nota1</th>\n",
              "      <th>Nota2</th>\n",
              "    </tr>\n",
              "  </thead>\n",
              "  <tbody>\n",
              "    <tr>\n",
              "      <th>0</th>\n",
              "      <td>id0011529</td>\n",
              "      <td>$2.25</td>\n",
              "      <td>Agressivo</td>\n",
              "      <td>1311.38</td>\n",
              "      <td>NaN</td>\n",
              "      <td>NaN</td>\n",
              "      <td>29267.48</td>\n",
              "      <td>4993.30</td>\n",
              "      <td>NaN</td>\n",
              "      <td>506.40</td>\n",
              "      <td>73.007216</td>\n",
              "      <td>30.025005</td>\n",
              "    </tr>\n",
              "    <tr>\n",
              "      <th>1</th>\n",
              "      <td>id0030644</td>\n",
              "      <td>$24.57</td>\n",
              "      <td>Agressivo</td>\n",
              "      <td>1007.38</td>\n",
              "      <td>4846.66</td>\n",
              "      <td>2717.82</td>\n",
              "      <td>12532.15</td>\n",
              "      <td>4282.98</td>\n",
              "      <td>NaN</td>\n",
              "      <td>499.93</td>\n",
              "      <td>20.000123</td>\n",
              "      <td>29.477728</td>\n",
              "    </tr>\n",
              "    <tr>\n",
              "      <th>2</th>\n",
              "      <td>id0019311</td>\n",
              "      <td>$367.53</td>\n",
              "      <td>Moderado</td>\n",
              "      <td>1128.99</td>\n",
              "      <td>4668.94</td>\n",
              "      <td>3092.60</td>\n",
              "      <td>9777.77</td>\n",
              "      <td>4246.30</td>\n",
              "      <td>2007.83</td>\n",
              "      <td>509.50</td>\n",
              "      <td>24.901450</td>\n",
              "      <td>49.659852</td>\n",
              "    </tr>\n",
              "    <tr>\n",
              "      <th>3</th>\n",
              "      <td>id0036705</td>\n",
              "      <td>$23.26</td>\n",
              "      <td>Moderado</td>\n",
              "      <td>1185.26</td>\n",
              "      <td>4782.17</td>\n",
              "      <td>2669.05</td>\n",
              "      <td>14047.87</td>\n",
              "      <td>6026.84</td>\n",
              "      <td>2064.09</td>\n",
              "      <td>489.82</td>\n",
              "      <td>14.246718</td>\n",
              "      <td>29.271206</td>\n",
              "    </tr>\n",
              "    <tr>\n",
              "      <th>4</th>\n",
              "      <td>id0001368</td>\n",
              "      <td>$6.31</td>\n",
              "      <td>Conservador</td>\n",
              "      <td>957.64</td>\n",
              "      <td>5585.52</td>\n",
              "      <td>NaN</td>\n",
              "      <td>5067.08</td>\n",
              "      <td>4030.51</td>\n",
              "      <td>2022.61</td>\n",
              "      <td>507.39</td>\n",
              "      <td>5.922253</td>\n",
              "      <td>11.840601</td>\n",
              "    </tr>\n",
              "    <tr>\n",
              "      <th>...</th>\n",
              "      <td>...</td>\n",
              "      <td>...</td>\n",
              "      <td>...</td>\n",
              "      <td>...</td>\n",
              "      <td>...</td>\n",
              "      <td>...</td>\n",
              "      <td>...</td>\n",
              "      <td>...</td>\n",
              "      <td>...</td>\n",
              "      <td>...</td>\n",
              "      <td>...</td>\n",
              "      <td>...</td>\n",
              "    </tr>\n",
              "    <tr>\n",
              "      <th>24046</th>\n",
              "      <td>id0012328</td>\n",
              "      <td>$86268.66</td>\n",
              "      <td>Moderado</td>\n",
              "      <td>804.92</td>\n",
              "      <td>4520.13</td>\n",
              "      <td>3388.55</td>\n",
              "      <td>18396.16</td>\n",
              "      <td>NaN</td>\n",
              "      <td>NaN</td>\n",
              "      <td>504.90</td>\n",
              "      <td>97.685833</td>\n",
              "      <td>70.195608</td>\n",
              "    </tr>\n",
              "    <tr>\n",
              "      <th>24048</th>\n",
              "      <td>id0005515</td>\n",
              "      <td>$212.76</td>\n",
              "      <td>Conservador</td>\n",
              "      <td>1624.80</td>\n",
              "      <td>NaN</td>\n",
              "      <td>2689.68</td>\n",
              "      <td>21886.01</td>\n",
              "      <td>4571.79</td>\n",
              "      <td>NaN</td>\n",
              "      <td>497.47</td>\n",
              "      <td>93.032164</td>\n",
              "      <td>93.621515</td>\n",
              "    </tr>\n",
              "    <tr>\n",
              "      <th>24049</th>\n",
              "      <td>id0009893</td>\n",
              "      <td>$9.32</td>\n",
              "      <td>Agressivo</td>\n",
              "      <td>829.20</td>\n",
              "      <td>NaN</td>\n",
              "      <td>3831.45</td>\n",
              "      <td>NaN</td>\n",
              "      <td>4784.34</td>\n",
              "      <td>2143.79</td>\n",
              "      <td>485.33</td>\n",
              "      <td>3.120521</td>\n",
              "      <td>9.086454</td>\n",
              "    </tr>\n",
              "    <tr>\n",
              "      <th>24050</th>\n",
              "      <td>id0016100</td>\n",
              "      <td>$81796.74</td>\n",
              "      <td>Conservador</td>\n",
              "      <td>1587.47</td>\n",
              "      <td>4881.66</td>\n",
              "      <td>4352.03</td>\n",
              "      <td>10391.18</td>\n",
              "      <td>4695.44</td>\n",
              "      <td>2465.65</td>\n",
              "      <td>492.84</td>\n",
              "      <td>95.665966</td>\n",
              "      <td>30.164927</td>\n",
              "    </tr>\n",
              "    <tr>\n",
              "      <th>24051</th>\n",
              "      <td>id0027880</td>\n",
              "      <td>$38480.37</td>\n",
              "      <td>Agressivo</td>\n",
              "      <td>996.90</td>\n",
              "      <td>5604.43</td>\n",
              "      <td>2801.04</td>\n",
              "      <td>9183.62</td>\n",
              "      <td>6220.96</td>\n",
              "      <td>NaN</td>\n",
              "      <td>503.24</td>\n",
              "      <td>55.035639</td>\n",
              "      <td>57.691996</td>\n",
              "    </tr>\n",
              "  </tbody>\n",
              "</table>\n",
              "<p>38754 rows × 12 columns</p>\n",
              "</div>"
            ],
            "text/plain": [
              "              id    Salario       Perfil  Ativo01  Ativo02  Ativo03   Ativo04  \\\n",
              "0      id0011529      $2.25    Agressivo  1311.38      NaN      NaN  29267.48   \n",
              "1      id0030644     $24.57    Agressivo  1007.38  4846.66  2717.82  12532.15   \n",
              "2      id0019311    $367.53     Moderado  1128.99  4668.94  3092.60   9777.77   \n",
              "3      id0036705     $23.26     Moderado  1185.26  4782.17  2669.05  14047.87   \n",
              "4      id0001368      $6.31  Conservador   957.64  5585.52      NaN   5067.08   \n",
              "...          ...        ...          ...      ...      ...      ...       ...   \n",
              "24046  id0012328  $86268.66     Moderado   804.92  4520.13  3388.55  18396.16   \n",
              "24048  id0005515    $212.76  Conservador  1624.80      NaN  2689.68  21886.01   \n",
              "24049  id0009893      $9.32    Agressivo   829.20      NaN  3831.45       NaN   \n",
              "24050  id0016100  $81796.74  Conservador  1587.47  4881.66  4352.03  10391.18   \n",
              "24051  id0027880  $38480.37    Agressivo   996.90  5604.43  2801.04   9183.62   \n",
              "\n",
              "       Ativo05  Ativo06  Ativo07      Nota1      Nota2  \n",
              "0      4993.30      NaN   506.40  73.007216  30.025005  \n",
              "1      4282.98      NaN   499.93  20.000123  29.477728  \n",
              "2      4246.30  2007.83   509.50  24.901450  49.659852  \n",
              "3      6026.84  2064.09   489.82  14.246718  29.271206  \n",
              "4      4030.51  2022.61   507.39   5.922253  11.840601  \n",
              "...        ...      ...      ...        ...        ...  \n",
              "24046      NaN      NaN   504.90  97.685833  70.195608  \n",
              "24048  4571.79      NaN   497.47  93.032164  93.621515  \n",
              "24049  4784.34  2143.79   485.33   3.120521   9.086454  \n",
              "24050  4695.44  2465.65   492.84  95.665966  30.164927  \n",
              "24051  6220.96      NaN   503.24  55.035639  57.691996  \n",
              "\n",
              "[38754 rows x 12 columns]"
            ]
          },
          "execution_count": 18,
          "metadata": {},
          "output_type": "execute_result"
        }
      ],
      "source": [
        "# A função drop_duplicates() já remove as linhas duplicadas e retorna um dataframe sem as linhas duplicadas.\n",
        "novo_fin = financeiro.drop_duplicates()\n",
        "novo_fin"
      ]
    },
    {
      "cell_type": "markdown",
      "metadata": {
        "id": "ZgLrOcnimmsb"
      },
      "source": [
        "### 4 - Junte o dataframe de investimento com o de cadastro\n",
        "Dica: use a chave id"
      ]
    },
    {
      "cell_type": "code",
      "execution_count": 19,
      "metadata": {
        "colab": {
          "base_uri": "https://localhost:8080/",
          "height": 0
        },
        "id": "-KldpqDmmmsb",
        "outputId": "e8dec162-fc79-43a6-a1be-683ea3144672"
      },
      "outputs": [
        {
          "name": "stdout",
          "output_type": "stream",
          "text": [
            "Linhas 38754\n",
            "Colunas 20\n"
          ]
        },
        {
          "data": {
            "text/html": [
              "<div>\n",
              "<style scoped>\n",
              "    .dataframe tbody tr th:only-of-type {\n",
              "        vertical-align: middle;\n",
              "    }\n",
              "\n",
              "    .dataframe tbody tr th {\n",
              "        vertical-align: top;\n",
              "    }\n",
              "\n",
              "    .dataframe thead th {\n",
              "        text-align: right;\n",
              "    }\n",
              "</style>\n",
              "<table border=\"1\" class=\"dataframe\">\n",
              "  <thead>\n",
              "    <tr style=\"text-align: right;\">\n",
              "      <th></th>\n",
              "      <th>id</th>\n",
              "      <th>Nome</th>\n",
              "      <th>Sexo</th>\n",
              "      <th>Nasc</th>\n",
              "      <th>Idade</th>\n",
              "      <th>Email</th>\n",
              "      <th>Lat_long</th>\n",
              "      <th>Job</th>\n",
              "      <th>Estado</th>\n",
              "      <th>Salario</th>\n",
              "      <th>Perfil</th>\n",
              "      <th>Ativo01</th>\n",
              "      <th>Ativo02</th>\n",
              "      <th>Ativo03</th>\n",
              "      <th>Ativo04</th>\n",
              "      <th>Ativo05</th>\n",
              "      <th>Ativo06</th>\n",
              "      <th>Ativo07</th>\n",
              "      <th>Nota1</th>\n",
              "      <th>Nota2</th>\n",
              "    </tr>\n",
              "  </thead>\n",
              "  <tbody>\n",
              "    <tr>\n",
              "      <th>0</th>\n",
              "      <td>id0000001</td>\n",
              "      <td>Eunice Hellen do Vale</td>\n",
              "      <td>Fem</td>\n",
              "      <td>1970-11-12</td>\n",
              "      <td>51</td>\n",
              "      <td>djones@yahoo.com</td>\n",
              "      <td>(Decimal('24.7024355'), Decimal('-28.038258'))</td>\n",
              "      <td>Technical author</td>\n",
              "      <td>TO</td>\n",
              "      <td>$63.67</td>\n",
              "      <td>Moderado</td>\n",
              "      <td>1174.27</td>\n",
              "      <td>4980.98</td>\n",
              "      <td>2638.24</td>\n",
              "      <td>NaN</td>\n",
              "      <td>4480.91</td>\n",
              "      <td>2329.72</td>\n",
              "      <td>480.72</td>\n",
              "      <td>79.600372</td>\n",
              "      <td>9.802620</td>\n",
              "    </tr>\n",
              "    <tr>\n",
              "      <th>1</th>\n",
              "      <td>id0000002</td>\n",
              "      <td>Sebastião Castelo Branco Júnior</td>\n",
              "      <td>Masc</td>\n",
              "      <td>2019-12-10</td>\n",
              "      <td>2</td>\n",
              "      <td>barnesandrea@yahoo.com</td>\n",
              "      <td>(Decimal('21.8589875'), Decimal('122.830566'))</td>\n",
              "      <td>Biochemist, clinical</td>\n",
              "      <td>DF</td>\n",
              "      <td>$21.96</td>\n",
              "      <td>Moderado</td>\n",
              "      <td>842.12</td>\n",
              "      <td>5646.09</td>\n",
              "      <td>3336.07</td>\n",
              "      <td>NaN</td>\n",
              "      <td>5624.22</td>\n",
              "      <td>2669.98</td>\n",
              "      <td>504.17</td>\n",
              "      <td>44.406893</td>\n",
              "      <td>90.512871</td>\n",
              "    </tr>\n",
              "    <tr>\n",
              "      <th>2</th>\n",
              "      <td>id0000003</td>\n",
              "      <td>Romildo Fábio de Carvalho</td>\n",
              "      <td>Masc</td>\n",
              "      <td>2015-12-28</td>\n",
              "      <td>6</td>\n",
              "      <td>walkermichael@yahoo.com</td>\n",
              "      <td>(Decimal('-28.2161525'), Decimal('97.140529'))</td>\n",
              "      <td>Development worker, international aid</td>\n",
              "      <td>DF</td>\n",
              "      <td>$62497.64</td>\n",
              "      <td>Agressivo</td>\n",
              "      <td>818.81</td>\n",
              "      <td>5516.52</td>\n",
              "      <td>3396.64</td>\n",
              "      <td>NaN</td>\n",
              "      <td>5033.83</td>\n",
              "      <td>2229.45</td>\n",
              "      <td>523.12</td>\n",
              "      <td>44.020024</td>\n",
              "      <td>65.060941</td>\n",
              "    </tr>\n",
              "    <tr>\n",
              "      <th>3</th>\n",
              "      <td>id0000004</td>\n",
              "      <td>Lana Albina de Lemos Mumy</td>\n",
              "      <td>Fem</td>\n",
              "      <td>1993-05-03</td>\n",
              "      <td>28</td>\n",
              "      <td>cobbangela@hotmail.com</td>\n",
              "      <td>(Decimal('-40.8557635'), Decimal('-2.936099'))</td>\n",
              "      <td>Estate manager/land agent</td>\n",
              "      <td>DF</td>\n",
              "      <td>$99878.74</td>\n",
              "      <td>Agressivo</td>\n",
              "      <td>NaN</td>\n",
              "      <td>5258.69</td>\n",
              "      <td>3723.10</td>\n",
              "      <td>NaN</td>\n",
              "      <td>5933.91</td>\n",
              "      <td>NaN</td>\n",
              "      <td>486.05</td>\n",
              "      <td>25.597924</td>\n",
              "      <td>86.548918</td>\n",
              "    </tr>\n",
              "    <tr>\n",
              "      <th>4</th>\n",
              "      <td>id0000005</td>\n",
              "      <td>Rose Elisângela Vyrnium de Moura</td>\n",
              "      <td>Fem</td>\n",
              "      <td>1984-06-10</td>\n",
              "      <td>37</td>\n",
              "      <td>crawfordcraig@yahoo.com</td>\n",
              "      <td>(Decimal('-20.2620885'), Decimal('104.349223'))</td>\n",
              "      <td>Chartered public finance accountant</td>\n",
              "      <td>MS</td>\n",
              "      <td>$188.01</td>\n",
              "      <td>Conservador</td>\n",
              "      <td>1505.16</td>\n",
              "      <td>6415.30</td>\n",
              "      <td>3462.67</td>\n",
              "      <td>30841.35</td>\n",
              "      <td>6044.86</td>\n",
              "      <td>2198.89</td>\n",
              "      <td>512.98</td>\n",
              "      <td>14.463307</td>\n",
              "      <td>33.566292</td>\n",
              "    </tr>\n",
              "  </tbody>\n",
              "</table>\n",
              "</div>"
            ],
            "text/plain": [
              "          id                              Nome  Sexo        Nasc  Idade  \\\n",
              "0  id0000001             Eunice Hellen do Vale   Fem  1970-11-12     51   \n",
              "1  id0000002   Sebastião Castelo Branco Júnior  Masc  2019-12-10      2   \n",
              "2  id0000003         Romildo Fábio de Carvalho  Masc  2015-12-28      6   \n",
              "3  id0000004         Lana Albina de Lemos Mumy   Fem  1993-05-03     28   \n",
              "4  id0000005  Rose Elisângela Vyrnium de Moura   Fem  1984-06-10     37   \n",
              "\n",
              "                     Email                                         Lat_long  \\\n",
              "0         djones@yahoo.com   (Decimal('24.7024355'), Decimal('-28.038258'))   \n",
              "1   barnesandrea@yahoo.com   (Decimal('21.8589875'), Decimal('122.830566'))   \n",
              "2  walkermichael@yahoo.com   (Decimal('-28.2161525'), Decimal('97.140529'))   \n",
              "3   cobbangela@hotmail.com   (Decimal('-40.8557635'), Decimal('-2.936099'))   \n",
              "4  crawfordcraig@yahoo.com  (Decimal('-20.2620885'), Decimal('104.349223'))   \n",
              "\n",
              "                                     Job Estado    Salario       Perfil  \\\n",
              "0                       Technical author     TO     $63.67     Moderado   \n",
              "1                   Biochemist, clinical     DF     $21.96     Moderado   \n",
              "2  Development worker, international aid     DF  $62497.64    Agressivo   \n",
              "3              Estate manager/land agent     DF  $99878.74    Agressivo   \n",
              "4    Chartered public finance accountant     MS    $188.01  Conservador   \n",
              "\n",
              "   Ativo01  Ativo02  Ativo03   Ativo04  Ativo05  Ativo06  Ativo07      Nota1  \\\n",
              "0  1174.27  4980.98  2638.24       NaN  4480.91  2329.72   480.72  79.600372   \n",
              "1   842.12  5646.09  3336.07       NaN  5624.22  2669.98   504.17  44.406893   \n",
              "2   818.81  5516.52  3396.64       NaN  5033.83  2229.45   523.12  44.020024   \n",
              "3      NaN  5258.69  3723.10       NaN  5933.91      NaN   486.05  25.597924   \n",
              "4  1505.16  6415.30  3462.67  30841.35  6044.86  2198.89   512.98  14.463307   \n",
              "\n",
              "       Nota2  \n",
              "0   9.802620  \n",
              "1  90.512871  \n",
              "2  65.060941  \n",
              "3  86.548918  \n",
              "4  33.566292  "
            ]
          },
          "execution_count": 19,
          "metadata": {},
          "output_type": "execute_result"
        }
      ],
      "source": [
        "# Com a função merge juntamos todas as informações, de ambas tabelas, fazemos um merge “outer”\n",
        "# Podemos perceber que o número de linhas continua o mesmo mas o número de colunas aumentou.\n",
        "dados_fin= pd.merge(cadastro, novo_fin, how = 'outer', on='id')\n",
        "print('Linhas', dados_fin.shape[0])\n",
        "print('Colunas', dados_fin.shape[1])\n",
        "dados_fin.head()"
      ]
    },
    {
      "cell_type": "markdown",
      "metadata": {
        "id": "x53sWHYxmmsc"
      },
      "source": [
        "### 5 - Ordene o dataframe pelo id, de forma crescente e redefina o índice"
      ]
    },
    {
      "cell_type": "code",
      "execution_count": 20,
      "metadata": {
        "colab": {
          "base_uri": "https://localhost:8080/",
          "height": 0
        },
        "id": "9TWh7cBNmmsc",
        "outputId": "9c601571-f974-44f0-8fe9-dbae046e9de3"
      },
      "outputs": [
        {
          "data": {
            "text/html": [
              "<div>\n",
              "<style scoped>\n",
              "    .dataframe tbody tr th:only-of-type {\n",
              "        vertical-align: middle;\n",
              "    }\n",
              "\n",
              "    .dataframe tbody tr th {\n",
              "        vertical-align: top;\n",
              "    }\n",
              "\n",
              "    .dataframe thead th {\n",
              "        text-align: right;\n",
              "    }\n",
              "</style>\n",
              "<table border=\"1\" class=\"dataframe\">\n",
              "  <thead>\n",
              "    <tr style=\"text-align: right;\">\n",
              "      <th></th>\n",
              "      <th>id</th>\n",
              "      <th>Nome</th>\n",
              "      <th>Sexo</th>\n",
              "      <th>Nasc</th>\n",
              "      <th>Idade</th>\n",
              "      <th>Email</th>\n",
              "      <th>Lat_long</th>\n",
              "      <th>Job</th>\n",
              "      <th>Estado</th>\n",
              "      <th>Salario</th>\n",
              "      <th>Perfil</th>\n",
              "      <th>Ativo01</th>\n",
              "      <th>Ativo02</th>\n",
              "      <th>Ativo03</th>\n",
              "      <th>Ativo04</th>\n",
              "      <th>Ativo05</th>\n",
              "      <th>Ativo06</th>\n",
              "      <th>Ativo07</th>\n",
              "      <th>Nota1</th>\n",
              "      <th>Nota2</th>\n",
              "    </tr>\n",
              "  </thead>\n",
              "  <tbody>\n",
              "    <tr>\n",
              "      <th>0</th>\n",
              "      <td>id0000001</td>\n",
              "      <td>Eunice Hellen do Vale</td>\n",
              "      <td>Fem</td>\n",
              "      <td>1970-11-12</td>\n",
              "      <td>51</td>\n",
              "      <td>djones@yahoo.com</td>\n",
              "      <td>(Decimal('24.7024355'), Decimal('-28.038258'))</td>\n",
              "      <td>Technical author</td>\n",
              "      <td>TO</td>\n",
              "      <td>$63.67</td>\n",
              "      <td>Moderado</td>\n",
              "      <td>1174.27</td>\n",
              "      <td>4980.98</td>\n",
              "      <td>2638.24</td>\n",
              "      <td>NaN</td>\n",
              "      <td>4480.91</td>\n",
              "      <td>2329.72</td>\n",
              "      <td>480.72</td>\n",
              "      <td>79.600372</td>\n",
              "      <td>9.802620</td>\n",
              "    </tr>\n",
              "    <tr>\n",
              "      <th>1</th>\n",
              "      <td>id0000002</td>\n",
              "      <td>Sebastião Castelo Branco Júnior</td>\n",
              "      <td>Masc</td>\n",
              "      <td>2019-12-10</td>\n",
              "      <td>2</td>\n",
              "      <td>barnesandrea@yahoo.com</td>\n",
              "      <td>(Decimal('21.8589875'), Decimal('122.830566'))</td>\n",
              "      <td>Biochemist, clinical</td>\n",
              "      <td>DF</td>\n",
              "      <td>$21.96</td>\n",
              "      <td>Moderado</td>\n",
              "      <td>842.12</td>\n",
              "      <td>5646.09</td>\n",
              "      <td>3336.07</td>\n",
              "      <td>NaN</td>\n",
              "      <td>5624.22</td>\n",
              "      <td>2669.98</td>\n",
              "      <td>504.17</td>\n",
              "      <td>44.406893</td>\n",
              "      <td>90.512871</td>\n",
              "    </tr>\n",
              "    <tr>\n",
              "      <th>2</th>\n",
              "      <td>id0000003</td>\n",
              "      <td>Romildo Fábio de Carvalho</td>\n",
              "      <td>Masc</td>\n",
              "      <td>2015-12-28</td>\n",
              "      <td>6</td>\n",
              "      <td>walkermichael@yahoo.com</td>\n",
              "      <td>(Decimal('-28.2161525'), Decimal('97.140529'))</td>\n",
              "      <td>Development worker, international aid</td>\n",
              "      <td>DF</td>\n",
              "      <td>$62497.64</td>\n",
              "      <td>Agressivo</td>\n",
              "      <td>818.81</td>\n",
              "      <td>5516.52</td>\n",
              "      <td>3396.64</td>\n",
              "      <td>NaN</td>\n",
              "      <td>5033.83</td>\n",
              "      <td>2229.45</td>\n",
              "      <td>523.12</td>\n",
              "      <td>44.020024</td>\n",
              "      <td>65.060941</td>\n",
              "    </tr>\n",
              "    <tr>\n",
              "      <th>3</th>\n",
              "      <td>id0000004</td>\n",
              "      <td>Lana Albina de Lemos Mumy</td>\n",
              "      <td>Fem</td>\n",
              "      <td>1993-05-03</td>\n",
              "      <td>28</td>\n",
              "      <td>cobbangela@hotmail.com</td>\n",
              "      <td>(Decimal('-40.8557635'), Decimal('-2.936099'))</td>\n",
              "      <td>Estate manager/land agent</td>\n",
              "      <td>DF</td>\n",
              "      <td>$99878.74</td>\n",
              "      <td>Agressivo</td>\n",
              "      <td>NaN</td>\n",
              "      <td>5258.69</td>\n",
              "      <td>3723.10</td>\n",
              "      <td>NaN</td>\n",
              "      <td>5933.91</td>\n",
              "      <td>NaN</td>\n",
              "      <td>486.05</td>\n",
              "      <td>25.597924</td>\n",
              "      <td>86.548918</td>\n",
              "    </tr>\n",
              "    <tr>\n",
              "      <th>4</th>\n",
              "      <td>id0000005</td>\n",
              "      <td>Rose Elisângela Vyrnium de Moura</td>\n",
              "      <td>Fem</td>\n",
              "      <td>1984-06-10</td>\n",
              "      <td>37</td>\n",
              "      <td>crawfordcraig@yahoo.com</td>\n",
              "      <td>(Decimal('-20.2620885'), Decimal('104.349223'))</td>\n",
              "      <td>Chartered public finance accountant</td>\n",
              "      <td>MS</td>\n",
              "      <td>$188.01</td>\n",
              "      <td>Conservador</td>\n",
              "      <td>1505.16</td>\n",
              "      <td>6415.30</td>\n",
              "      <td>3462.67</td>\n",
              "      <td>30841.35</td>\n",
              "      <td>6044.86</td>\n",
              "      <td>2198.89</td>\n",
              "      <td>512.98</td>\n",
              "      <td>14.463307</td>\n",
              "      <td>33.566292</td>\n",
              "    </tr>\n",
              "    <tr>\n",
              "      <th>...</th>\n",
              "      <td>...</td>\n",
              "      <td>...</td>\n",
              "      <td>...</td>\n",
              "      <td>...</td>\n",
              "      <td>...</td>\n",
              "      <td>...</td>\n",
              "      <td>...</td>\n",
              "      <td>...</td>\n",
              "      <td>...</td>\n",
              "      <td>...</td>\n",
              "      <td>...</td>\n",
              "      <td>...</td>\n",
              "      <td>...</td>\n",
              "      <td>...</td>\n",
              "      <td>...</td>\n",
              "      <td>...</td>\n",
              "      <td>...</td>\n",
              "      <td>...</td>\n",
              "      <td>...</td>\n",
              "      <td>...</td>\n",
              "    </tr>\n",
              "    <tr>\n",
              "      <th>38749</th>\n",
              "      <td>id0038750</td>\n",
              "      <td>Beatriz Maísa de Miranda Milani</td>\n",
              "      <td>Fem</td>\n",
              "      <td>1999-02-20</td>\n",
              "      <td>22</td>\n",
              "      <td>mark47@gmail.com</td>\n",
              "      <td>(Decimal('-23.8494875'), Decimal('-91.561304'))</td>\n",
              "      <td>Further education lecturer</td>\n",
              "      <td>RS</td>\n",
              "      <td>$4993.49</td>\n",
              "      <td>Moderado</td>\n",
              "      <td>1001.01</td>\n",
              "      <td>5561.55</td>\n",
              "      <td>NaN</td>\n",
              "      <td>8454.99</td>\n",
              "      <td>NaN</td>\n",
              "      <td>2191.78</td>\n",
              "      <td>489.76</td>\n",
              "      <td>66.644257</td>\n",
              "      <td>6.462871</td>\n",
              "    </tr>\n",
              "    <tr>\n",
              "      <th>38750</th>\n",
              "      <td>id0038751</td>\n",
              "      <td>Juan dos Santos</td>\n",
              "      <td>Masc</td>\n",
              "      <td>1999-07-10</td>\n",
              "      <td>22</td>\n",
              "      <td>greggnguyen@hotmail.com</td>\n",
              "      <td>(Decimal('-7.8876355'), Decimal('155.835880'))</td>\n",
              "      <td>Adult guidance worker</td>\n",
              "      <td>PI</td>\n",
              "      <td>$41218.63</td>\n",
              "      <td>Moderado</td>\n",
              "      <td>1532.51</td>\n",
              "      <td>5102.84</td>\n",
              "      <td>3097.50</td>\n",
              "      <td>11243.08</td>\n",
              "      <td>4692.11</td>\n",
              "      <td>2368.93</td>\n",
              "      <td>496.02</td>\n",
              "      <td>96.987294</td>\n",
              "      <td>72.333030</td>\n",
              "    </tr>\n",
              "    <tr>\n",
              "      <th>38751</th>\n",
              "      <td>id0038752</td>\n",
              "      <td>Severino Edson de Viana Loase</td>\n",
              "      <td>Masc</td>\n",
              "      <td>1981-12-01</td>\n",
              "      <td>40</td>\n",
              "      <td>cindy11@yahoo.com</td>\n",
              "      <td>(Decimal('-52.1338005'), Decimal('-59.715325'))</td>\n",
              "      <td>Arts development officer</td>\n",
              "      <td>PR</td>\n",
              "      <td>$32.41</td>\n",
              "      <td>Agressivo</td>\n",
              "      <td>1163.90</td>\n",
              "      <td>4911.63</td>\n",
              "      <td>3746.62</td>\n",
              "      <td>NaN</td>\n",
              "      <td>6733.79</td>\n",
              "      <td>2338.43</td>\n",
              "      <td>504.32</td>\n",
              "      <td>32.139610</td>\n",
              "      <td>22.742974</td>\n",
              "    </tr>\n",
              "    <tr>\n",
              "      <th>38752</th>\n",
              "      <td>id0038753</td>\n",
              "      <td>Kim Mooshi</td>\n",
              "      <td>Masc</td>\n",
              "      <td>1999-12-06</td>\n",
              "      <td>22</td>\n",
              "      <td>mcdonaldmario@gmail.com</td>\n",
              "      <td>(Decimal('-81.2874995'), Decimal('-28.805800'))</td>\n",
              "      <td>Production manager</td>\n",
              "      <td>RJ</td>\n",
              "      <td>$914.52</td>\n",
              "      <td>Conservador</td>\n",
              "      <td>NaN</td>\n",
              "      <td>5532.35</td>\n",
              "      <td>2861.32</td>\n",
              "      <td>NaN</td>\n",
              "      <td>4921.77</td>\n",
              "      <td>2024.00</td>\n",
              "      <td>500.65</td>\n",
              "      <td>98.385080</td>\n",
              "      <td>56.611838</td>\n",
              "    </tr>\n",
              "    <tr>\n",
              "      <th>38753</th>\n",
              "      <td>id0038754</td>\n",
              "      <td>Vinícius Arnaldo de Pereira Mendes</td>\n",
              "      <td>Masc</td>\n",
              "      <td>2003-09-13</td>\n",
              "      <td>18</td>\n",
              "      <td>omartinez@hotmail.com</td>\n",
              "      <td>(Decimal('-37.248521'), Decimal('6.033254'))</td>\n",
              "      <td>Pension scheme manager</td>\n",
              "      <td>AL</td>\n",
              "      <td>$29076.19</td>\n",
              "      <td>Moderado</td>\n",
              "      <td>981.62</td>\n",
              "      <td>4825.10</td>\n",
              "      <td>NaN</td>\n",
              "      <td>18085.88</td>\n",
              "      <td>5161.07</td>\n",
              "      <td>2257.66</td>\n",
              "      <td>507.95</td>\n",
              "      <td>29.660050</td>\n",
              "      <td>47.371606</td>\n",
              "    </tr>\n",
              "  </tbody>\n",
              "</table>\n",
              "<p>38754 rows × 20 columns</p>\n",
              "</div>"
            ],
            "text/plain": [
              "              id                                Nome  Sexo        Nasc  Idade  \\\n",
              "0      id0000001               Eunice Hellen do Vale   Fem  1970-11-12     51   \n",
              "1      id0000002     Sebastião Castelo Branco Júnior  Masc  2019-12-10      2   \n",
              "2      id0000003           Romildo Fábio de Carvalho  Masc  2015-12-28      6   \n",
              "3      id0000004           Lana Albina de Lemos Mumy   Fem  1993-05-03     28   \n",
              "4      id0000005    Rose Elisângela Vyrnium de Moura   Fem  1984-06-10     37   \n",
              "...          ...                                 ...   ...         ...    ...   \n",
              "38749  id0038750     Beatriz Maísa de Miranda Milani   Fem  1999-02-20     22   \n",
              "38750  id0038751                     Juan dos Santos  Masc  1999-07-10     22   \n",
              "38751  id0038752       Severino Edson de Viana Loase  Masc  1981-12-01     40   \n",
              "38752  id0038753                          Kim Mooshi  Masc  1999-12-06     22   \n",
              "38753  id0038754  Vinícius Arnaldo de Pereira Mendes  Masc  2003-09-13     18   \n",
              "\n",
              "                         Email  \\\n",
              "0             djones@yahoo.com   \n",
              "1       barnesandrea@yahoo.com   \n",
              "2      walkermichael@yahoo.com   \n",
              "3       cobbangela@hotmail.com   \n",
              "4      crawfordcraig@yahoo.com   \n",
              "...                        ...   \n",
              "38749         mark47@gmail.com   \n",
              "38750  greggnguyen@hotmail.com   \n",
              "38751        cindy11@yahoo.com   \n",
              "38752  mcdonaldmario@gmail.com   \n",
              "38753    omartinez@hotmail.com   \n",
              "\n",
              "                                              Lat_long  \\\n",
              "0       (Decimal('24.7024355'), Decimal('-28.038258'))   \n",
              "1       (Decimal('21.8589875'), Decimal('122.830566'))   \n",
              "2       (Decimal('-28.2161525'), Decimal('97.140529'))   \n",
              "3       (Decimal('-40.8557635'), Decimal('-2.936099'))   \n",
              "4      (Decimal('-20.2620885'), Decimal('104.349223'))   \n",
              "...                                                ...   \n",
              "38749  (Decimal('-23.8494875'), Decimal('-91.561304'))   \n",
              "38750   (Decimal('-7.8876355'), Decimal('155.835880'))   \n",
              "38751  (Decimal('-52.1338005'), Decimal('-59.715325'))   \n",
              "38752  (Decimal('-81.2874995'), Decimal('-28.805800'))   \n",
              "38753     (Decimal('-37.248521'), Decimal('6.033254'))   \n",
              "\n",
              "                                         Job Estado    Salario       Perfil  \\\n",
              "0                           Technical author     TO     $63.67     Moderado   \n",
              "1                       Biochemist, clinical     DF     $21.96     Moderado   \n",
              "2      Development worker, international aid     DF  $62497.64    Agressivo   \n",
              "3                  Estate manager/land agent     DF  $99878.74    Agressivo   \n",
              "4        Chartered public finance accountant     MS    $188.01  Conservador   \n",
              "...                                      ...    ...        ...          ...   \n",
              "38749             Further education lecturer     RS   $4993.49     Moderado   \n",
              "38750                  Adult guidance worker     PI  $41218.63     Moderado   \n",
              "38751               Arts development officer     PR     $32.41    Agressivo   \n",
              "38752                     Production manager     RJ    $914.52  Conservador   \n",
              "38753                 Pension scheme manager     AL  $29076.19     Moderado   \n",
              "\n",
              "       Ativo01  Ativo02  Ativo03   Ativo04  Ativo05  Ativo06  Ativo07  \\\n",
              "0      1174.27  4980.98  2638.24       NaN  4480.91  2329.72   480.72   \n",
              "1       842.12  5646.09  3336.07       NaN  5624.22  2669.98   504.17   \n",
              "2       818.81  5516.52  3396.64       NaN  5033.83  2229.45   523.12   \n",
              "3          NaN  5258.69  3723.10       NaN  5933.91      NaN   486.05   \n",
              "4      1505.16  6415.30  3462.67  30841.35  6044.86  2198.89   512.98   \n",
              "...        ...      ...      ...       ...      ...      ...      ...   \n",
              "38749  1001.01  5561.55      NaN   8454.99      NaN  2191.78   489.76   \n",
              "38750  1532.51  5102.84  3097.50  11243.08  4692.11  2368.93   496.02   \n",
              "38751  1163.90  4911.63  3746.62       NaN  6733.79  2338.43   504.32   \n",
              "38752      NaN  5532.35  2861.32       NaN  4921.77  2024.00   500.65   \n",
              "38753   981.62  4825.10      NaN  18085.88  5161.07  2257.66   507.95   \n",
              "\n",
              "           Nota1      Nota2  \n",
              "0      79.600372   9.802620  \n",
              "1      44.406893  90.512871  \n",
              "2      44.020024  65.060941  \n",
              "3      25.597924  86.548918  \n",
              "4      14.463307  33.566292  \n",
              "...          ...        ...  \n",
              "38749  66.644257   6.462871  \n",
              "38750  96.987294  72.333030  \n",
              "38751  32.139610  22.742974  \n",
              "38752  98.385080  56.611838  \n",
              "38753  29.660050  47.371606  \n",
              "\n",
              "[38754 rows x 20 columns]"
            ]
          },
          "execution_count": 20,
          "metadata": {},
          "output_type": "execute_result"
        }
      ],
      "source": [
        "# Classifica o df pela coluna id\n",
        "dados_fin.sort_values(by='id')\n",
        "\n",
        "# Cria um novo index e remove a coluna do index antigo\n",
        "dados_fin = dados_fin.reset_index().drop(['index'], axis=1)\n",
        "\n",
        "dados_fin"
      ]
    },
    {
      "cell_type": "code",
      "execution_count": 21,
      "metadata": {
        "colab": {
          "base_uri": "https://localhost:8080/",
          "height": 0
        },
        "id": "nFD42xMFmmsc",
        "outputId": "2ffb03f6-78f9-41c6-9c92-dbdac693f2cf"
      },
      "outputs": [
        {
          "data": {
            "text/html": [
              "<div>\n",
              "<style scoped>\n",
              "    .dataframe tbody tr th:only-of-type {\n",
              "        vertical-align: middle;\n",
              "    }\n",
              "\n",
              "    .dataframe tbody tr th {\n",
              "        vertical-align: top;\n",
              "    }\n",
              "\n",
              "    .dataframe thead th {\n",
              "        text-align: right;\n",
              "    }\n",
              "</style>\n",
              "<table border=\"1\" class=\"dataframe\">\n",
              "  <thead>\n",
              "    <tr style=\"text-align: right;\">\n",
              "      <th></th>\n",
              "      <th>id</th>\n",
              "      <th>Nome</th>\n",
              "      <th>Sexo</th>\n",
              "      <th>Nasc</th>\n",
              "      <th>Idade</th>\n",
              "      <th>Email</th>\n",
              "      <th>Lat_long</th>\n",
              "      <th>Job</th>\n",
              "      <th>Estado</th>\n",
              "      <th>Salario</th>\n",
              "      <th>Perfil</th>\n",
              "      <th>Ativo01</th>\n",
              "      <th>Ativo02</th>\n",
              "      <th>Ativo03</th>\n",
              "      <th>Ativo04</th>\n",
              "      <th>Ativo05</th>\n",
              "      <th>Ativo06</th>\n",
              "      <th>Ativo07</th>\n",
              "      <th>Nota1</th>\n",
              "      <th>Nota2</th>\n",
              "    </tr>\n",
              "  </thead>\n",
              "  <tbody>\n",
              "    <tr>\n",
              "      <th>0</th>\n",
              "      <td>id0000001</td>\n",
              "      <td>Eunice Hellen do Vale</td>\n",
              "      <td>Fem</td>\n",
              "      <td>1970-11-12</td>\n",
              "      <td>51</td>\n",
              "      <td>djones@yahoo.com</td>\n",
              "      <td>(Decimal('24.7024355'), Decimal('-28.038258'))</td>\n",
              "      <td>Technical author</td>\n",
              "      <td>TO</td>\n",
              "      <td>$63.67</td>\n",
              "      <td>Moderado</td>\n",
              "      <td>1174.27</td>\n",
              "      <td>4980.98</td>\n",
              "      <td>2638.24</td>\n",
              "      <td>NaN</td>\n",
              "      <td>4480.91</td>\n",
              "      <td>2329.72</td>\n",
              "      <td>480.72</td>\n",
              "      <td>79.600372</td>\n",
              "      <td>9.802620</td>\n",
              "    </tr>\n",
              "    <tr>\n",
              "      <th>1</th>\n",
              "      <td>id0000002</td>\n",
              "      <td>Sebastião Castelo Branco Júnior</td>\n",
              "      <td>Masc</td>\n",
              "      <td>2019-12-10</td>\n",
              "      <td>2</td>\n",
              "      <td>barnesandrea@yahoo.com</td>\n",
              "      <td>(Decimal('21.8589875'), Decimal('122.830566'))</td>\n",
              "      <td>Biochemist, clinical</td>\n",
              "      <td>DF</td>\n",
              "      <td>$21.96</td>\n",
              "      <td>Moderado</td>\n",
              "      <td>842.12</td>\n",
              "      <td>5646.09</td>\n",
              "      <td>3336.07</td>\n",
              "      <td>NaN</td>\n",
              "      <td>5624.22</td>\n",
              "      <td>2669.98</td>\n",
              "      <td>504.17</td>\n",
              "      <td>44.406893</td>\n",
              "      <td>90.512871</td>\n",
              "    </tr>\n",
              "    <tr>\n",
              "      <th>2</th>\n",
              "      <td>id0000003</td>\n",
              "      <td>Romildo Fábio de Carvalho</td>\n",
              "      <td>Masc</td>\n",
              "      <td>2015-12-28</td>\n",
              "      <td>6</td>\n",
              "      <td>walkermichael@yahoo.com</td>\n",
              "      <td>(Decimal('-28.2161525'), Decimal('97.140529'))</td>\n",
              "      <td>Development worker, international aid</td>\n",
              "      <td>DF</td>\n",
              "      <td>$62497.64</td>\n",
              "      <td>Agressivo</td>\n",
              "      <td>818.81</td>\n",
              "      <td>5516.52</td>\n",
              "      <td>3396.64</td>\n",
              "      <td>NaN</td>\n",
              "      <td>5033.83</td>\n",
              "      <td>2229.45</td>\n",
              "      <td>523.12</td>\n",
              "      <td>44.020024</td>\n",
              "      <td>65.060941</td>\n",
              "    </tr>\n",
              "    <tr>\n",
              "      <th>3</th>\n",
              "      <td>id0000004</td>\n",
              "      <td>Lana Albina de Lemos Mumy</td>\n",
              "      <td>Fem</td>\n",
              "      <td>1993-05-03</td>\n",
              "      <td>28</td>\n",
              "      <td>cobbangela@hotmail.com</td>\n",
              "      <td>(Decimal('-40.8557635'), Decimal('-2.936099'))</td>\n",
              "      <td>Estate manager/land agent</td>\n",
              "      <td>DF</td>\n",
              "      <td>$99878.74</td>\n",
              "      <td>Agressivo</td>\n",
              "      <td>NaN</td>\n",
              "      <td>5258.69</td>\n",
              "      <td>3723.10</td>\n",
              "      <td>NaN</td>\n",
              "      <td>5933.91</td>\n",
              "      <td>NaN</td>\n",
              "      <td>486.05</td>\n",
              "      <td>25.597924</td>\n",
              "      <td>86.548918</td>\n",
              "    </tr>\n",
              "    <tr>\n",
              "      <th>4</th>\n",
              "      <td>id0000005</td>\n",
              "      <td>Rose Elisângela Vyrnium de Moura</td>\n",
              "      <td>Fem</td>\n",
              "      <td>1984-06-10</td>\n",
              "      <td>37</td>\n",
              "      <td>crawfordcraig@yahoo.com</td>\n",
              "      <td>(Decimal('-20.2620885'), Decimal('104.349223'))</td>\n",
              "      <td>Chartered public finance accountant</td>\n",
              "      <td>MS</td>\n",
              "      <td>$188.01</td>\n",
              "      <td>Conservador</td>\n",
              "      <td>1505.16</td>\n",
              "      <td>6415.30</td>\n",
              "      <td>3462.67</td>\n",
              "      <td>30841.35</td>\n",
              "      <td>6044.86</td>\n",
              "      <td>2198.89</td>\n",
              "      <td>512.98</td>\n",
              "      <td>14.463307</td>\n",
              "      <td>33.566292</td>\n",
              "    </tr>\n",
              "    <tr>\n",
              "      <th>...</th>\n",
              "      <td>...</td>\n",
              "      <td>...</td>\n",
              "      <td>...</td>\n",
              "      <td>...</td>\n",
              "      <td>...</td>\n",
              "      <td>...</td>\n",
              "      <td>...</td>\n",
              "      <td>...</td>\n",
              "      <td>...</td>\n",
              "      <td>...</td>\n",
              "      <td>...</td>\n",
              "      <td>...</td>\n",
              "      <td>...</td>\n",
              "      <td>...</td>\n",
              "      <td>...</td>\n",
              "      <td>...</td>\n",
              "      <td>...</td>\n",
              "      <td>...</td>\n",
              "      <td>...</td>\n",
              "      <td>...</td>\n",
              "    </tr>\n",
              "    <tr>\n",
              "      <th>38749</th>\n",
              "      <td>id0038750</td>\n",
              "      <td>Beatriz Maísa de Miranda Milani</td>\n",
              "      <td>Fem</td>\n",
              "      <td>1999-02-20</td>\n",
              "      <td>22</td>\n",
              "      <td>mark47@gmail.com</td>\n",
              "      <td>(Decimal('-23.8494875'), Decimal('-91.561304'))</td>\n",
              "      <td>Further education lecturer</td>\n",
              "      <td>RS</td>\n",
              "      <td>$4993.49</td>\n",
              "      <td>Moderado</td>\n",
              "      <td>1001.01</td>\n",
              "      <td>5561.55</td>\n",
              "      <td>NaN</td>\n",
              "      <td>8454.99</td>\n",
              "      <td>NaN</td>\n",
              "      <td>2191.78</td>\n",
              "      <td>489.76</td>\n",
              "      <td>66.644257</td>\n",
              "      <td>6.462871</td>\n",
              "    </tr>\n",
              "    <tr>\n",
              "      <th>38750</th>\n",
              "      <td>id0038751</td>\n",
              "      <td>Juan dos Santos</td>\n",
              "      <td>Masc</td>\n",
              "      <td>1999-07-10</td>\n",
              "      <td>22</td>\n",
              "      <td>greggnguyen@hotmail.com</td>\n",
              "      <td>(Decimal('-7.8876355'), Decimal('155.835880'))</td>\n",
              "      <td>Adult guidance worker</td>\n",
              "      <td>PI</td>\n",
              "      <td>$41218.63</td>\n",
              "      <td>Moderado</td>\n",
              "      <td>1532.51</td>\n",
              "      <td>5102.84</td>\n",
              "      <td>3097.50</td>\n",
              "      <td>11243.08</td>\n",
              "      <td>4692.11</td>\n",
              "      <td>2368.93</td>\n",
              "      <td>496.02</td>\n",
              "      <td>96.987294</td>\n",
              "      <td>72.333030</td>\n",
              "    </tr>\n",
              "    <tr>\n",
              "      <th>38751</th>\n",
              "      <td>id0038752</td>\n",
              "      <td>Severino Edson de Viana Loase</td>\n",
              "      <td>Masc</td>\n",
              "      <td>1981-12-01</td>\n",
              "      <td>40</td>\n",
              "      <td>cindy11@yahoo.com</td>\n",
              "      <td>(Decimal('-52.1338005'), Decimal('-59.715325'))</td>\n",
              "      <td>Arts development officer</td>\n",
              "      <td>PR</td>\n",
              "      <td>$32.41</td>\n",
              "      <td>Agressivo</td>\n",
              "      <td>1163.90</td>\n",
              "      <td>4911.63</td>\n",
              "      <td>3746.62</td>\n",
              "      <td>NaN</td>\n",
              "      <td>6733.79</td>\n",
              "      <td>2338.43</td>\n",
              "      <td>504.32</td>\n",
              "      <td>32.139610</td>\n",
              "      <td>22.742974</td>\n",
              "    </tr>\n",
              "    <tr>\n",
              "      <th>38752</th>\n",
              "      <td>id0038753</td>\n",
              "      <td>Kim Mooshi</td>\n",
              "      <td>Masc</td>\n",
              "      <td>1999-12-06</td>\n",
              "      <td>22</td>\n",
              "      <td>mcdonaldmario@gmail.com</td>\n",
              "      <td>(Decimal('-81.2874995'), Decimal('-28.805800'))</td>\n",
              "      <td>Production manager</td>\n",
              "      <td>RJ</td>\n",
              "      <td>$914.52</td>\n",
              "      <td>Conservador</td>\n",
              "      <td>NaN</td>\n",
              "      <td>5532.35</td>\n",
              "      <td>2861.32</td>\n",
              "      <td>NaN</td>\n",
              "      <td>4921.77</td>\n",
              "      <td>2024.00</td>\n",
              "      <td>500.65</td>\n",
              "      <td>98.385080</td>\n",
              "      <td>56.611838</td>\n",
              "    </tr>\n",
              "    <tr>\n",
              "      <th>38753</th>\n",
              "      <td>id0038754</td>\n",
              "      <td>Vinícius Arnaldo de Pereira Mendes</td>\n",
              "      <td>Masc</td>\n",
              "      <td>2003-09-13</td>\n",
              "      <td>18</td>\n",
              "      <td>omartinez@hotmail.com</td>\n",
              "      <td>(Decimal('-37.248521'), Decimal('6.033254'))</td>\n",
              "      <td>Pension scheme manager</td>\n",
              "      <td>AL</td>\n",
              "      <td>$29076.19</td>\n",
              "      <td>Moderado</td>\n",
              "      <td>981.62</td>\n",
              "      <td>4825.10</td>\n",
              "      <td>NaN</td>\n",
              "      <td>18085.88</td>\n",
              "      <td>5161.07</td>\n",
              "      <td>2257.66</td>\n",
              "      <td>507.95</td>\n",
              "      <td>29.660050</td>\n",
              "      <td>47.371606</td>\n",
              "    </tr>\n",
              "  </tbody>\n",
              "</table>\n",
              "<p>38754 rows × 20 columns</p>\n",
              "</div>"
            ],
            "text/plain": [
              "              id                                Nome  Sexo        Nasc  Idade  \\\n",
              "0      id0000001               Eunice Hellen do Vale   Fem  1970-11-12     51   \n",
              "1      id0000002     Sebastião Castelo Branco Júnior  Masc  2019-12-10      2   \n",
              "2      id0000003           Romildo Fábio de Carvalho  Masc  2015-12-28      6   \n",
              "3      id0000004           Lana Albina de Lemos Mumy   Fem  1993-05-03     28   \n",
              "4      id0000005    Rose Elisângela Vyrnium de Moura   Fem  1984-06-10     37   \n",
              "...          ...                                 ...   ...         ...    ...   \n",
              "38749  id0038750     Beatriz Maísa de Miranda Milani   Fem  1999-02-20     22   \n",
              "38750  id0038751                     Juan dos Santos  Masc  1999-07-10     22   \n",
              "38751  id0038752       Severino Edson de Viana Loase  Masc  1981-12-01     40   \n",
              "38752  id0038753                          Kim Mooshi  Masc  1999-12-06     22   \n",
              "38753  id0038754  Vinícius Arnaldo de Pereira Mendes  Masc  2003-09-13     18   \n",
              "\n",
              "                         Email  \\\n",
              "0             djones@yahoo.com   \n",
              "1       barnesandrea@yahoo.com   \n",
              "2      walkermichael@yahoo.com   \n",
              "3       cobbangela@hotmail.com   \n",
              "4      crawfordcraig@yahoo.com   \n",
              "...                        ...   \n",
              "38749         mark47@gmail.com   \n",
              "38750  greggnguyen@hotmail.com   \n",
              "38751        cindy11@yahoo.com   \n",
              "38752  mcdonaldmario@gmail.com   \n",
              "38753    omartinez@hotmail.com   \n",
              "\n",
              "                                              Lat_long  \\\n",
              "0       (Decimal('24.7024355'), Decimal('-28.038258'))   \n",
              "1       (Decimal('21.8589875'), Decimal('122.830566'))   \n",
              "2       (Decimal('-28.2161525'), Decimal('97.140529'))   \n",
              "3       (Decimal('-40.8557635'), Decimal('-2.936099'))   \n",
              "4      (Decimal('-20.2620885'), Decimal('104.349223'))   \n",
              "...                                                ...   \n",
              "38749  (Decimal('-23.8494875'), Decimal('-91.561304'))   \n",
              "38750   (Decimal('-7.8876355'), Decimal('155.835880'))   \n",
              "38751  (Decimal('-52.1338005'), Decimal('-59.715325'))   \n",
              "38752  (Decimal('-81.2874995'), Decimal('-28.805800'))   \n",
              "38753     (Decimal('-37.248521'), Decimal('6.033254'))   \n",
              "\n",
              "                                         Job Estado    Salario       Perfil  \\\n",
              "0                           Technical author     TO     $63.67     Moderado   \n",
              "1                       Biochemist, clinical     DF     $21.96     Moderado   \n",
              "2      Development worker, international aid     DF  $62497.64    Agressivo   \n",
              "3                  Estate manager/land agent     DF  $99878.74    Agressivo   \n",
              "4        Chartered public finance accountant     MS    $188.01  Conservador   \n",
              "...                                      ...    ...        ...          ...   \n",
              "38749             Further education lecturer     RS   $4993.49     Moderado   \n",
              "38750                  Adult guidance worker     PI  $41218.63     Moderado   \n",
              "38751               Arts development officer     PR     $32.41    Agressivo   \n",
              "38752                     Production manager     RJ    $914.52  Conservador   \n",
              "38753                 Pension scheme manager     AL  $29076.19     Moderado   \n",
              "\n",
              "       Ativo01  Ativo02  Ativo03   Ativo04  Ativo05  Ativo06  Ativo07  \\\n",
              "0      1174.27  4980.98  2638.24       NaN  4480.91  2329.72   480.72   \n",
              "1       842.12  5646.09  3336.07       NaN  5624.22  2669.98   504.17   \n",
              "2       818.81  5516.52  3396.64       NaN  5033.83  2229.45   523.12   \n",
              "3          NaN  5258.69  3723.10       NaN  5933.91      NaN   486.05   \n",
              "4      1505.16  6415.30  3462.67  30841.35  6044.86  2198.89   512.98   \n",
              "...        ...      ...      ...       ...      ...      ...      ...   \n",
              "38749  1001.01  5561.55      NaN   8454.99      NaN  2191.78   489.76   \n",
              "38750  1532.51  5102.84  3097.50  11243.08  4692.11  2368.93   496.02   \n",
              "38751  1163.90  4911.63  3746.62       NaN  6733.79  2338.43   504.32   \n",
              "38752      NaN  5532.35  2861.32       NaN  4921.77  2024.00   500.65   \n",
              "38753   981.62  4825.10      NaN  18085.88  5161.07  2257.66   507.95   \n",
              "\n",
              "           Nota1      Nota2  \n",
              "0      79.600372   9.802620  \n",
              "1      44.406893  90.512871  \n",
              "2      44.020024  65.060941  \n",
              "3      25.597924  86.548918  \n",
              "4      14.463307  33.566292  \n",
              "...          ...        ...  \n",
              "38749  66.644257   6.462871  \n",
              "38750  96.987294  72.333030  \n",
              "38751  32.139610  22.742974  \n",
              "38752  98.385080  56.611838  \n",
              "38753  29.660050  47.371606  \n",
              "\n",
              "[38754 rows x 20 columns]"
            ]
          },
          "execution_count": 21,
          "metadata": {},
          "output_type": "execute_result"
        }
      ],
      "source": [
        "# Ordena de forma crescente\n",
        "dados_fin.sort_index(ascending=True)"
      ]
    },
    {
      "cell_type": "markdown",
      "metadata": {
        "id": "E0eEEOn2mmsc"
      },
      "source": [
        "## 6 - Faça uma análise dos dados faltantes e trate-os\n",
        "\n",
        "Mostre todas as colunas com dados faltantes, sua quantidade/porcentagem e como tratar (preencher) cada uma delas explicando sua estratégia\n"
      ]
    },
    {
      "cell_type": "code",
      "execution_count": 22,
      "metadata": {
        "colab": {
          "base_uri": "https://localhost:8080/"
        },
        "id": "OdoLBUZgmmsc",
        "outputId": "d2376b34-5fa3-41cd-c87f-3812c2ded216"
      },
      "outputs": [
        {
          "data": {
            "text/plain": [
              "id              0\n",
              "Nome            0\n",
              "Sexo            0\n",
              "Nasc            0\n",
              "Idade           0\n",
              "Email           0\n",
              "Lat_long        0\n",
              "Job             0\n",
              "Estado          0\n",
              "Salario         0\n",
              "Perfil          0\n",
              "Ativo01      9724\n",
              "Ativo02      6100\n",
              "Ativo03      6169\n",
              "Ativo04     11887\n",
              "Ativo05      6191\n",
              "Ativo06     19514\n",
              "Ativo07         0\n",
              "Nota1        3000\n",
              "Nota2        2000\n",
              "dtype: int64"
            ]
          },
          "execution_count": 22,
          "metadata": {},
          "output_type": "execute_result"
        }
      ],
      "source": [
        "# Soma dos valores faltantes de todas as colunas\n",
        "dados_fin.isnull().sum()\n",
        "\n"
      ]
    },
    {
      "cell_type": "code",
      "execution_count": 23,
      "metadata": {
        "colab": {
          "base_uri": "https://localhost:8080/"
        },
        "id": "BFKIFNDwmmsc",
        "outputId": "89fee140-3495-4c29-b3be-e6cba289a50b"
      },
      "outputs": [
        {
          "data": {
            "text/plain": [
              "id          0.000000\n",
              "Nome        0.000000\n",
              "Sexo        0.000000\n",
              "Nasc        0.000000\n",
              "Idade       0.000000\n",
              "Email       0.000000\n",
              "Lat_long    0.000000\n",
              "Job         0.000000\n",
              "Estado      0.000000\n",
              "Salario     0.000000\n",
              "Perfil      0.000000\n",
              "Ativo01     0.012546\n",
              "Ativo02     0.007870\n",
              "Ativo03     0.007959\n",
              "Ativo04     0.015336\n",
              "Ativo05     0.007988\n",
              "Ativo06     0.025177\n",
              "Ativo07     0.000000\n",
              "Nota1       0.003871\n",
              "Nota2       0.002580\n",
              "dtype: float64"
            ]
          },
          "execution_count": 23,
          "metadata": {},
          "output_type": "execute_result"
        }
      ],
      "source": [
        "# Porcentagem dos valores faltantes de todas as colunas\n",
        "dados_fin.isnull().sum()/dados_fin.size"
      ]
    },
    {
      "cell_type": "markdown",
      "metadata": {
        "id": "BHfU9N8Kmmsc"
      },
      "source": [
        "#### Como temos 38754 linhas de informação, caso fossemos excluir todas as linhas em que contém dados faltantes teríamos ao final apenas 5147 linhas. Como pode ser visto no exemplo abaixo:\n"
      ]
    },
    {
      "cell_type": "code",
      "execution_count": 24,
      "metadata": {
        "colab": {
          "base_uri": "https://localhost:8080/"
        },
        "id": "pTdQK35immsc",
        "outputId": "9bb6f234-a451-4011-b61e-c52e135c7104"
      },
      "outputs": [
        {
          "name": "stdout",
          "output_type": "stream",
          "text": [
            "Linhas 38754\n",
            "Colunas 20\n"
          ]
        }
      ],
      "source": [
        "#Cria um dataframe de teste\n",
        "dados_teste=dados_fin.copy()\n",
        "#Verifica números de linhas e colunas do dataframe de teste\n",
        "print('Linhas', dados_teste.shape[0])\n",
        "print('Colunas', dados_teste.shape[1])"
      ]
    },
    {
      "cell_type": "code",
      "execution_count": 25,
      "metadata": {
        "colab": {
          "base_uri": "https://localhost:8080/"
        },
        "id": "xbfziM0zmmsd",
        "outputId": "4cb1f3c3-b0e1-43bb-c4ee-8f37172f1cf9"
      },
      "outputs": [
        {
          "name": "stdout",
          "output_type": "stream",
          "text": [
            "Linhas 5147\n",
            "Colunas 20\n"
          ]
        }
      ],
      "source": [
        "#Exclue todos as linhas com dados faltantes\n",
        "dados_teste.dropna(inplace=True)\n",
        "#Verifica números de linhas e colunas do dataframe de teste\n",
        "print('Linhas', dados_teste.shape[0])\n",
        "print('Colunas', dados_teste.shape[1])"
      ]
    },
    {
      "cell_type": "markdown",
      "metadata": {
        "id": "XDh6eWbfmmsd"
      },
      "source": [
        "### Começando o tratamento de dados faltantes para todas as colunas de Ativos, podemos analisar os valores mais frequentes com os conceitos de média, moda e mediana."
      ]
    },
    {
      "cell_type": "code",
      "execution_count": 26,
      "metadata": {
        "colab": {
          "base_uri": "https://localhost:8080/"
        },
        "id": "Ep_bQG7Fmmsd",
        "outputId": "219ef737-a690-419b-ffed-23ff5c317ed9"
      },
      "outputs": [
        {
          "name": "stdout",
          "output_type": "stream",
          "text": [
            "A média dos dados do Ativo 06 é:2319.482555093555\n",
            "A moda dos dados do Ativo 06 é:2030.03\n",
            "A mediana dos dados do Ativo 06 é:2271.385\n"
          ]
        }
      ],
      "source": [
        "# Trazendo média, moda e mediana dos dados da coluna Ativo06\n",
        "print(f'A média dos dados do Ativo 06 é:{dados_fin.Ativo06.mean()}')\n",
        "print(f'A moda dos dados do Ativo 06 é:{dados_fin.Ativo06.mode()[0]}')\n",
        "print(f'A mediana dos dados do Ativo 06 é:{dados_fin.Ativo06.median()}')"
      ]
    },
    {
      "cell_type": "markdown",
      "metadata": {
        "id": "gThgQloZmmsd"
      },
      "source": [
        "#### Como a média é maior que a mediana e a mediana é maior do que a moda, os dados são assimétricos e dessa forma a mediana é um valor mais fiel a tendência dos dados do que a média. "
      ]
    },
    {
      "cell_type": "code",
      "execution_count": 27,
      "metadata": {
        "colab": {
          "base_uri": "https://localhost:8080/",
          "height": 295
        },
        "id": "2sO79dBImmsd",
        "outputId": "ffd62c53-fb68-4903-dad5-b54400ecfa2f"
      },
      "outputs": [
        {
          "data": {
            "image/png": "[encoded data removed]",
            "text/plain": [
              "<Figure size 640x480 with 1 Axes>"
            ]
          },
          "metadata": {},
          "output_type": "display_data"
        }
      ],
      "source": [
        "plt.title('Histograma do Ativo06')\n",
        "plt.xlabel('Valores')\n",
        "plt.ylabel('Frequência')\n",
        "plt.hist(dados_fin.Ativo06, rwidth=0.9)\n",
        "plt.show()"
      ]
    },
    {
      "cell_type": "code",
      "execution_count": 28,
      "metadata": {
        "colab": {
          "base_uri": "https://localhost:8080/"
        },
        "id": "akiE1Gzqmmsd",
        "outputId": "f3c283f2-4e88-4651-d824-cea6f3757d19"
      },
      "outputs": [
        {
          "data": {
            "text/plain": [
              "id              0\n",
              "Nome            0\n",
              "Sexo            0\n",
              "Nasc            0\n",
              "Idade           0\n",
              "Email           0\n",
              "Lat_long        0\n",
              "Job             0\n",
              "Estado          0\n",
              "Salario         0\n",
              "Perfil          0\n",
              "Ativo01      9724\n",
              "Ativo02      6100\n",
              "Ativo03      6169\n",
              "Ativo04     11887\n",
              "Ativo05      6191\n",
              "Ativo06         0\n",
              "Ativo07         0\n",
              "Nota1        3000\n",
              "Nota2        2000\n",
              "dtype: int64"
            ]
          },
          "execution_count": 28,
          "metadata": {},
          "output_type": "execute_result"
        }
      ],
      "source": [
        "#Extraindo a mediana da coluna Ativo06\n",
        "mediana=dados_fin.Ativo06.median()\n",
        "#Preenchendo os valores faltantes com a mediana\n",
        "dados_fin.Ativo06.fillna(mediana, inplace=True)\n",
        "#Checa se os valores foram mudados\n",
        "dados_fin.isnull().sum()"
      ]
    },
    {
      "cell_type": "markdown",
      "metadata": {
        "id": "0wlJbqk5mmsd"
      },
      "source": [
        "### Segue o mesmo padrão para todos os outros ativos."
      ]
    },
    {
      "cell_type": "code",
      "execution_count": 29,
      "metadata": {
        "colab": {
          "base_uri": "https://localhost:8080/"
        },
        "id": "PnaY9cR4mmsd",
        "outputId": "35ba0e6c-711e-4a7b-fc45-eabdd036b753"
      },
      "outputs": [
        {
          "name": "stdout",
          "output_type": "stream",
          "text": [
            "A média dos dados do Ativo 05 é:5284.1206614869625\n",
            "A moda dos dados do Ativo 05 é:4120.89\n",
            "A mediana dos dados do Ativo 05 é:5198.42\n"
          ]
        }
      ],
      "source": [
        "# Trazendo média, moda e mediana dos dados da coluna Ativo05\n",
        "print(f'A média dos dados do Ativo 05 é:{dados_fin.Ativo05.mean()}')\n",
        "print(f'A moda dos dados do Ativo 05 é:{dados_fin.Ativo05.mode()[0]}')\n",
        "print(f'A mediana dos dados do Ativo 05 é:{dados_fin.Ativo05.median()}')"
      ]
    },
    {
      "cell_type": "code",
      "execution_count": 30,
      "metadata": {
        "colab": {
          "base_uri": "https://localhost:8080/",
          "height": 295
        },
        "id": "xzW9fTEbneG_",
        "outputId": "a0daf74d-f6cb-44bf-8c77-ca81814bd485"
      },
      "outputs": [
        {
          "data": {
            "image/png": "[encoded data removed]",
            "text/plain": [
              "<Figure size 640x480 with 1 Axes>"
            ]
          },
          "metadata": {},
          "output_type": "display_data"
        }
      ],
      "source": [
        "plt.title('Histograma do Ativo05')\n",
        "plt.xlabel('Valores')\n",
        "plt.ylabel('Frequência')\n",
        "plt.hist(dados_fin.Ativo05, rwidth=0.9)\n",
        "plt.show()"
      ]
    },
    {
      "cell_type": "code",
      "execution_count": 31,
      "metadata": {
        "colab": {
          "base_uri": "https://localhost:8080/"
        },
        "id": "ZK2mX24hmmsd",
        "outputId": "46d48220-5992-428b-be9a-499caad35cbe"
      },
      "outputs": [
        {
          "data": {
            "text/plain": [
              "id              0\n",
              "Nome            0\n",
              "Sexo            0\n",
              "Nasc            0\n",
              "Idade           0\n",
              "Email           0\n",
              "Lat_long        0\n",
              "Job             0\n",
              "Estado          0\n",
              "Salario         0\n",
              "Perfil          0\n",
              "Ativo01      9724\n",
              "Ativo02      6100\n",
              "Ativo03      6169\n",
              "Ativo04     11887\n",
              "Ativo05         0\n",
              "Ativo06         0\n",
              "Ativo07         0\n",
              "Nota1        3000\n",
              "Nota2        2000\n",
              "dtype: int64"
            ]
          },
          "execution_count": 31,
          "metadata": {},
          "output_type": "execute_result"
        }
      ],
      "source": [
        "#Extraindo a mediana da coluna Ativo05\n",
        "mediana=dados_fin.Ativo05.median()\n",
        "#Preenchendo os valores faltantes com a mediana\n",
        "dados_fin.Ativo05.fillna(mediana, inplace=True)\n",
        "#Checa se os valores foram mudados\n",
        "dados_fin.isnull().sum()"
      ]
    },
    {
      "cell_type": "code",
      "execution_count": 32,
      "metadata": {
        "colab": {
          "base_uri": "https://localhost:8080/"
        },
        "id": "X1MXW6wAmmse",
        "outputId": "866e1644-8c0f-47fe-8be3-691f68afedd2"
      },
      "outputs": [
        {
          "name": "stdout",
          "output_type": "stream",
          "text": [
            "A média dos dados do Ativo 04 é:15153.68174154167\n",
            "A moda dos dados do Ativo 04 é:13810.37\n",
            "A mediana dos dados do Ativo 04 é:14066.76\n"
          ]
        }
      ],
      "source": [
        "# Trazendo média, moda e mediana dos dados da coluna Ativo04\n",
        "print(f'A média dos dados do Ativo 04 é:{dados_fin.Ativo04.mean()}')\n",
        "print(f'A moda dos dados do Ativo 04 é:{dados_fin.Ativo04.mode()[0]}')\n",
        "print(f'A mediana dos dados do Ativo 04 é:{dados_fin.Ativo04.median()}')"
      ]
    },
    {
      "cell_type": "code",
      "execution_count": 33,
      "metadata": {
        "colab": {
          "base_uri": "https://localhost:8080/",
          "height": 295
        },
        "id": "J4JmcSlpnmfn",
        "outputId": "5605736d-a79e-4d20-e8fd-d08afba6ee2c"
      },
      "outputs": [
        {
          "data": {
            "image/png": "[encoded data removed]",
            "text/plain": [
              "<Figure size 640x480 with 1 Axes>"
            ]
          },
          "metadata": {},
          "output_type": "display_data"
        }
      ],
      "source": [
        "plt.title('Histograma do Ativo04')\n",
        "plt.xlabel('Valores')\n",
        "plt.ylabel('Frequência')\n",
        "plt.hist(dados_fin.Ativo04, rwidth=0.9)\n",
        "plt.show()"
      ]
    },
    {
      "cell_type": "code",
      "execution_count": 34,
      "metadata": {
        "colab": {
          "base_uri": "https://localhost:8080/"
        },
        "id": "OkOvoUwxmmse",
        "outputId": "30dc398c-e856-457c-e9a6-7ecd21012dde"
      },
      "outputs": [
        {
          "data": {
            "text/plain": [
              "id             0\n",
              "Nome           0\n",
              "Sexo           0\n",
              "Nasc           0\n",
              "Idade          0\n",
              "Email          0\n",
              "Lat_long       0\n",
              "Job            0\n",
              "Estado         0\n",
              "Salario        0\n",
              "Perfil         0\n",
              "Ativo01     9724\n",
              "Ativo02     6100\n",
              "Ativo03     6169\n",
              "Ativo04        0\n",
              "Ativo05        0\n",
              "Ativo06        0\n",
              "Ativo07        0\n",
              "Nota1       3000\n",
              "Nota2       2000\n",
              "dtype: int64"
            ]
          },
          "execution_count": 34,
          "metadata": {},
          "output_type": "execute_result"
        }
      ],
      "source": [
        "#Extraindo a mediana da coluna Ativo04\n",
        "mediana=dados_fin.Ativo04.median()\n",
        "#Preenchendo os valores faltantes com a mediana\n",
        "dados_fin.Ativo04.fillna(mediana, inplace=True)\n",
        "#Checa se os valores foram mudados\n",
        "dados_fin.isnull().sum()"
      ]
    },
    {
      "cell_type": "code",
      "execution_count": 35,
      "metadata": {
        "colab": {
          "base_uri": "https://localhost:8080/"
        },
        "id": "0BbE32sImmse",
        "outputId": "1fcd6c1c-a6f4-41c1-9615-07db5849af99"
      },
      "outputs": [
        {
          "name": "stdout",
          "output_type": "stream",
          "text": [
            "A média dos dados do Ativo 03 é:3140.4189307963793\n",
            "A moda dos dados do Ativo 03 é:3046.22\n",
            "A mediana dos dados do Ativo 03 é:3096.08\n"
          ]
        }
      ],
      "source": [
        "# Trazendo média, moda e mediana dos dados da coluna Ativo03\n",
        "print(f'A média dos dados do Ativo 03 é:{dados_fin.Ativo03.mean()}')\n",
        "print(f'A moda dos dados do Ativo 03 é:{dados_fin.Ativo03.mode()[0]}')\n",
        "print(f'A mediana dos dados do Ativo 03 é:{dados_fin.Ativo03.median()}')"
      ]
    },
    {
      "cell_type": "code",
      "execution_count": 36,
      "metadata": {
        "colab": {
          "base_uri": "https://localhost:8080/",
          "height": 295
        },
        "id": "Ts3lPzUWnti2",
        "outputId": "7c76e62b-8932-4f62-8bca-40ac7207dafc"
      },
      "outputs": [
        {
          "data": {
            "image/png": "[encoded data removed]",
            "text/plain": [
              "<Figure size 640x480 with 1 Axes>"
            ]
          },
          "metadata": {},
          "output_type": "display_data"
        }
      ],
      "source": [
        "plt.title('Histograma do Ativo03')\n",
        "plt.xlabel('Valores')\n",
        "plt.ylabel('Frequência')\n",
        "plt.hist(dados_fin.Ativo03, rwidth=0.9)\n",
        "plt.show()"
      ]
    },
    {
      "cell_type": "code",
      "execution_count": 37,
      "metadata": {
        "colab": {
          "base_uri": "https://localhost:8080/"
        },
        "id": "-t3Ftm8Hmmse",
        "outputId": "9a95620f-c125-4b31-b854-685c7e578bef"
      },
      "outputs": [
        {
          "data": {
            "text/plain": [
              "id             0\n",
              "Nome           0\n",
              "Sexo           0\n",
              "Nasc           0\n",
              "Idade          0\n",
              "Email          0\n",
              "Lat_long       0\n",
              "Job            0\n",
              "Estado         0\n",
              "Salario        0\n",
              "Perfil         0\n",
              "Ativo01     9724\n",
              "Ativo02     6100\n",
              "Ativo03        0\n",
              "Ativo04        0\n",
              "Ativo05        0\n",
              "Ativo06        0\n",
              "Ativo07        0\n",
              "Nota1       3000\n",
              "Nota2       2000\n",
              "dtype: int64"
            ]
          },
          "execution_count": 37,
          "metadata": {},
          "output_type": "execute_result"
        }
      ],
      "source": [
        "#Extraindo a mediana da coluna Ativo03\n",
        "mediana=dados_fin.Ativo03.median()\n",
        "#Preenchendo os valores faltantes com a mediana\n",
        "dados_fin.Ativo03.fillna(mediana, inplace=True)\n",
        "#Checa se os valores foram mudados\n",
        "dados_fin.isnull().sum()"
      ]
    },
    {
      "cell_type": "code",
      "execution_count": 38,
      "metadata": {
        "colab": {
          "base_uri": "https://localhost:8080/"
        },
        "id": "zb-moHe3mmse",
        "outputId": "24b63723-775b-4b4e-ff97-b80a04b9286b"
      },
      "outputs": [
        {
          "name": "stdout",
          "output_type": "stream",
          "text": [
            "A média dos dados do Ativo 02 é:5147.296097874686\n",
            "A moda dos dados do Ativo 02 é:4666.63\n",
            "A mediana dos dados do Ativo 02 é:5103.425\n"
          ]
        }
      ],
      "source": [
        "# Trazendo média, moda e mediana dos dados da coluna Ativo02\n",
        "print(f'A média dos dados do Ativo 02 é:{dados_fin.Ativo02.mean()}')\n",
        "print(f'A moda dos dados do Ativo 02 é:{dados_fin.Ativo02.mode()[0]}')\n",
        "print(f'A mediana dos dados do Ativo 02 é:{dados_fin.Ativo02.median()}')"
      ]
    },
    {
      "cell_type": "code",
      "execution_count": 39,
      "metadata": {
        "colab": {
          "base_uri": "https://localhost:8080/",
          "height": 295
        },
        "id": "aMqE3MfRnwbD",
        "outputId": "2dd6cb95-6649-4da0-bebd-459d4ac0d216"
      },
      "outputs": [
        {
          "data": {
            "image/png": "[encoded data removed]",
            "text/plain": [
              "<Figure size 640x480 with 1 Axes>"
            ]
          },
          "metadata": {},
          "output_type": "display_data"
        }
      ],
      "source": [
        "plt.title('Histograma do Ativo02')\n",
        "plt.xlabel('Valores')\n",
        "plt.ylabel('Frequência')\n",
        "plt.hist(dados_fin.Ativo02, rwidth=0.9)\n",
        "plt.show()"
      ]
    },
    {
      "cell_type": "code",
      "execution_count": 40,
      "metadata": {
        "colab": {
          "base_uri": "https://localhost:8080/"
        },
        "id": "nfiLTUohmmsf",
        "outputId": "45b7fb2e-9355-46cf-9ac4-32dc30bbed55"
      },
      "outputs": [
        {
          "data": {
            "text/plain": [
              "id             0\n",
              "Nome           0\n",
              "Sexo           0\n",
              "Nasc           0\n",
              "Idade          0\n",
              "Email          0\n",
              "Lat_long       0\n",
              "Job            0\n",
              "Estado         0\n",
              "Salario        0\n",
              "Perfil         0\n",
              "Ativo01     9724\n",
              "Ativo02        0\n",
              "Ativo03        0\n",
              "Ativo04        0\n",
              "Ativo05        0\n",
              "Ativo06        0\n",
              "Ativo07        0\n",
              "Nota1       3000\n",
              "Nota2       2000\n",
              "dtype: int64"
            ]
          },
          "execution_count": 40,
          "metadata": {},
          "output_type": "execute_result"
        }
      ],
      "source": [
        "#Extraindo a mediana da coluna Ativo02\n",
        "mediana=dados_fin.Ativo02.median()\n",
        "#Preenchendo os valores faltantes com a mediana\n",
        "dados_fin.Ativo02.fillna(mediana, inplace=True)\n",
        "#Checa se os valores foram mudados\n",
        "dados_fin.isnull().sum()"
      ]
    },
    {
      "cell_type": "code",
      "execution_count": 41,
      "metadata": {
        "colab": {
          "base_uri": "https://localhost:8080/"
        },
        "id": "_sS0Jb6ummsf",
        "outputId": "4119984d-f52b-48c5-842a-ccc4befc558f"
      },
      "outputs": [
        {
          "name": "stdout",
          "output_type": "stream",
          "text": [
            "A média dos dados do Ativo 01 é:1128.3393003789183\n",
            "A moda dos dados do Ativo 01 é:1091.55\n",
            "A mediana dos dados do Ativo 01 é:1095.51\n"
          ]
        }
      ],
      "source": [
        "# Trazendo média, moda e mediana dos dados da coluna Ativo01\n",
        "print(f'A média dos dados do Ativo 01 é:{dados_fin.Ativo01.mean()}')\n",
        "print(f'A moda dos dados do Ativo 01 é:{dados_fin.Ativo01.mode()[0]}')\n",
        "print(f'A mediana dos dados do Ativo 01 é:{dados_fin.Ativo01.median()}')"
      ]
    },
    {
      "cell_type": "code",
      "execution_count": 42,
      "metadata": {
        "colab": {
          "base_uri": "https://localhost:8080/",
          "height": 295
        },
        "id": "GvChlIqHn7Tn",
        "outputId": "7caa13b7-4406-4bcf-9391-c912353240b3"
      },
      "outputs": [
        {
          "data": {
            "image/png": "[encoded data removed]",
            "text/plain": [
              "<Figure size 640x480 with 1 Axes>"
            ]
          },
          "metadata": {},
          "output_type": "display_data"
        }
      ],
      "source": [
        "plt.title('Histograma do Ativo01')\n",
        "plt.xlabel('Valores')\n",
        "plt.ylabel('Frequência')\n",
        "plt.hist(dados_fin.Ativo01, rwidth=0.9)\n",
        "plt.show()"
      ]
    },
    {
      "cell_type": "code",
      "execution_count": 43,
      "metadata": {
        "colab": {
          "base_uri": "https://localhost:8080/"
        },
        "id": "gviGFl2qmmsf",
        "outputId": "211b5035-c079-4b74-b357-77c226a0ad01"
      },
      "outputs": [
        {
          "data": {
            "text/plain": [
              "id             0\n",
              "Nome           0\n",
              "Sexo           0\n",
              "Nasc           0\n",
              "Idade          0\n",
              "Email          0\n",
              "Lat_long       0\n",
              "Job            0\n",
              "Estado         0\n",
              "Salario        0\n",
              "Perfil         0\n",
              "Ativo01        0\n",
              "Ativo02        0\n",
              "Ativo03        0\n",
              "Ativo04        0\n",
              "Ativo05        0\n",
              "Ativo06        0\n",
              "Ativo07        0\n",
              "Nota1       3000\n",
              "Nota2       2000\n",
              "dtype: int64"
            ]
          },
          "execution_count": 43,
          "metadata": {},
          "output_type": "execute_result"
        }
      ],
      "source": [
        "#Extraindo a mediana da coluna Ativo01\n",
        "mediana=dados_fin.Ativo01.median()\n",
        "#Preenchendo os valores faltantes com a mediana\n",
        "dados_fin.Ativo01.fillna(mediana, inplace=True)\n",
        "#Checa se os valores foram mudados\n",
        "dados_fin.isnull().sum()"
      ]
    },
    {
      "cell_type": "markdown",
      "metadata": {
        "id": "981f6Okymmsf"
      },
      "source": [
        "### Já para o tratamento de dados faltantes nas colunas de Notas, percebemos um padrão diferente ao analisar a média, moda e mediana."
      ]
    },
    {
      "cell_type": "code",
      "execution_count": 44,
      "metadata": {
        "colab": {
          "base_uri": "https://localhost:8080/"
        },
        "id": "MwWB0DdWmmsf",
        "outputId": "6c25b638-aaa4-4637-9f52-8fe22614a7ea"
      },
      "outputs": [
        {
          "name": "stdout",
          "output_type": "stream",
          "text": [
            "A média dos dados do Nota 1 é:49.82109426961431\n",
            "A moda dos dados do Nota 1 é:0.0031431914018997\n",
            "A mediana dos dados do Nota 1 é:49.584429781574606\n"
          ]
        }
      ],
      "source": [
        "# Trazendo média, moda e mediana dos dados da coluna Nota1\n",
        "print(f'A média dos dados do Nota 1 é:{dados_fin.Nota1.mean()}')\n",
        "print(f'A moda dos dados do Nota 1 é:{dados_fin.Nota1.mode()[0]}')\n",
        "print(f'A mediana dos dados do Nota 1 é:{dados_fin.Nota1.median()}')"
      ]
    },
    {
      "cell_type": "code",
      "execution_count": 45,
      "metadata": {
        "colab": {
          "base_uri": "https://localhost:8080/",
          "height": 295
        },
        "id": "iJgPU9XnoGsC",
        "outputId": "35d320dc-449e-473a-dc46-db91b9208b5c"
      },
      "outputs": [
        {
          "data": {
            "image/png": "[encoded data removed]",
            "text/plain": [
              "<Figure size 640x480 with 1 Axes>"
            ]
          },
          "metadata": {},
          "output_type": "display_data"
        }
      ],
      "source": [
        "plt.title('Histograma da Nota1')\n",
        "plt.xlabel('Valores')\n",
        "plt.ylabel('Frequência')\n",
        "plt.hist(dados_fin.Nota1, rwidth=0.9)\n",
        "plt.show()"
      ]
    },
    {
      "cell_type": "markdown",
      "metadata": {
        "id": "EznQBMVgmmsf"
      },
      "source": [
        "#### Como a média é semelhante com a mediana, os dados são simetricos e dessa forma a media é um valor mais fiel a tendência dos dados."
      ]
    },
    {
      "cell_type": "code",
      "execution_count": 46,
      "metadata": {
        "colab": {
          "base_uri": "https://localhost:8080/"
        },
        "id": "fEKKLP7Nmmsf",
        "outputId": "ff8d80e8-78d9-4a21-dc47-23ecf0592089"
      },
      "outputs": [
        {
          "data": {
            "text/plain": [
              "id             0\n",
              "Nome           0\n",
              "Sexo           0\n",
              "Nasc           0\n",
              "Idade          0\n",
              "Email          0\n",
              "Lat_long       0\n",
              "Job            0\n",
              "Estado         0\n",
              "Salario        0\n",
              "Perfil         0\n",
              "Ativo01        0\n",
              "Ativo02        0\n",
              "Ativo03        0\n",
              "Ativo04        0\n",
              "Ativo05        0\n",
              "Ativo06        0\n",
              "Ativo07        0\n",
              "Nota1          0\n",
              "Nota2       2000\n",
              "dtype: int64"
            ]
          },
          "execution_count": 46,
          "metadata": {},
          "output_type": "execute_result"
        }
      ],
      "source": [
        "#Extraindo a mediana da coluna Nota1\n",
        "media=dados_fin.Nota1.mean()\n",
        "#Preenchendo os valores faltantes com a mediana\n",
        "dados_fin.Nota1.fillna(media, inplace=True)\n",
        "#Checa se os valores foram mudados\n",
        "dados_fin.isnull().sum()"
      ]
    },
    {
      "cell_type": "code",
      "execution_count": 47,
      "metadata": {
        "colab": {
          "base_uri": "https://localhost:8080/"
        },
        "id": "Rqp7Txa3mmsg",
        "outputId": "7b0c2a0f-0d21-473f-c10d-e0d46606fa59"
      },
      "outputs": [
        {
          "name": "stdout",
          "output_type": "stream",
          "text": [
            "A média dos dados do Nota 2 é:50.075481092463434\n",
            "A moda dos dados do Nota 2 é:0.0033411307592712\n",
            "A mediana dos dados do Nota 2 é:50.06459173080374\n"
          ]
        }
      ],
      "source": [
        "# Trazendo média, moda e mediana dos dados da coluna Nota2\n",
        "print(f'A média dos dados do Nota 2 é:{dados_fin.Nota2.mean()}')\n",
        "print(f'A moda dos dados do Nota 2 é:{dados_fin.Nota2.mode()[0]}')\n",
        "print(f'A mediana dos dados do Nota 2 é:{dados_fin.Nota2.median()}')"
      ]
    },
    {
      "cell_type": "code",
      "execution_count": 48,
      "metadata": {
        "colab": {
          "base_uri": "https://localhost:8080/",
          "height": 295
        },
        "id": "ug9FeIw2oIhS",
        "outputId": "e966c048-57a5-4e15-985d-c972450a1da6"
      },
      "outputs": [
        {
          "data": {
            "image/png": "[encoded data removed]",
            "text/plain": [
              "<Figure size 640x480 with 1 Axes>"
            ]
          },
          "metadata": {},
          "output_type": "display_data"
        }
      ],
      "source": [
        "plt.title('Histograma do Nota2')\n",
        "plt.xlabel('Valores')\n",
        "plt.ylabel('Frequência')\n",
        "plt.hist(dados_fin.Nota2, rwidth=0.9)\n",
        "plt.show()"
      ]
    },
    {
      "cell_type": "code",
      "execution_count": 49,
      "metadata": {
        "colab": {
          "base_uri": "https://localhost:8080/"
        },
        "id": "hZXFoFwWmmsg",
        "outputId": "99537d86-74a1-49c6-9137-9b1530b24f3b"
      },
      "outputs": [
        {
          "data": {
            "text/plain": [
              "id          0\n",
              "Nome        0\n",
              "Sexo        0\n",
              "Nasc        0\n",
              "Idade       0\n",
              "Email       0\n",
              "Lat_long    0\n",
              "Job         0\n",
              "Estado      0\n",
              "Salario     0\n",
              "Perfil      0\n",
              "Ativo01     0\n",
              "Ativo02     0\n",
              "Ativo03     0\n",
              "Ativo04     0\n",
              "Ativo05     0\n",
              "Ativo06     0\n",
              "Ativo07     0\n",
              "Nota1       0\n",
              "Nota2       0\n",
              "dtype: int64"
            ]
          },
          "execution_count": 49,
          "metadata": {},
          "output_type": "execute_result"
        }
      ],
      "source": [
        "#Extraindo a mediana da coluna Nota2\n",
        "media=dados_fin.Nota2.mean()\n",
        "#Preenchendo os valores faltantes com a mediana\n",
        "dados_fin.Nota2.fillna(media, inplace=True)\n",
        "#Checa se os valores foram mudados\n",
        "dados_fin.isnull().sum()"
      ]
    },
    {
      "cell_type": "markdown",
      "metadata": {
        "id": "aIWsuR-immsg"
      },
      "source": [
        "## 7 - Manipule os dados a seguir:\n",
        "- Criar coluna \"Total\" somando o valor de todos os ativos por investidor\n",
        "- Criar coluna \"Media\" com a média das notas 1 e 2\n",
        "- Criar coluna \"Dominio\" com apenas o domínio do email (dica: separar por @)\n",
        "- Mudar o nome da coluna \"Salário\" para \"Renda\" e tratar a coluna (sem caracter $ e tipo numérica)\n",
        "- Mudar os dados da coluna \"Sexo\" para Masculino e Feminino (tente usar o map)\n",
        "- Transformar os dados da coluna Media em inteiro\n",
        "- Criar coluna \"NPS\" onde o investidor é promotor se a média das notas é maior igual a 80, neutro se a média estiver entre 50 e 80, e detrator se for abaixo de 50"
      ]
    },
    {
      "cell_type": "code",
      "execution_count": 50,
      "metadata": {
        "colab": {
          "base_uri": "https://localhost:8080/"
        },
        "id": "sVyjTnoCmmsg",
        "outputId": "04df1a0d-d201-4380-ada3-20d6069abeec"
      },
      "outputs": [
        {
          "data": {
            "text/plain": [
              "Index(['id', 'Nome', 'Sexo', 'Nasc', 'Idade', 'Email', 'Lat_long', 'Job',\n",
              "       'Estado', 'Salario', 'Perfil', 'Ativo01', 'Ativo02', 'Ativo03',\n",
              "       'Ativo04', 'Ativo05', 'Ativo06', 'Ativo07', 'Nota1', 'Nota2'],\n",
              "      dtype='object')"
            ]
          },
          "execution_count": 50,
          "metadata": {},
          "output_type": "execute_result"
        }
      ],
      "source": [
        "# Descobrindo os indices das colunas\n",
        "dados_fin.columns"
      ]
    },
    {
      "cell_type": "code",
      "execution_count": 51,
      "metadata": {
        "id": "LecquiIommsg"
      },
      "outputs": [],
      "source": [
        "# Soma os valores dos ativos por investidor\n",
        "dados_fin['Total'] = dados_fin.iloc[:, 11:18].sum(axis=1)"
      ]
    },
    {
      "cell_type": "code",
      "execution_count": 52,
      "metadata": {
        "id": "cCEfEeahmmsg"
      },
      "outputs": [],
      "source": [
        "# Cria coluna \"Media\" com a média das notas 1 e 2\n",
        "dados_fin['Media'] = dados_fin[['Nota1', 'Nota2']].mean(axis=1)"
      ]
    },
    {
      "cell_type": "code",
      "execution_count": 53,
      "metadata": {
        "id": "czImHtwFmmsh"
      },
      "outputs": [],
      "source": [
        "# Cria coluna \"Dominio\" com apenas o domínio do email\n",
        "pega_dominio = lambda x: x.split(sep='@')[1]\n",
        "dados_fin['Dominio'] = dados_fin['Email'].apply(pega_dominio)\n"
      ]
    },
    {
      "cell_type": "code",
      "execution_count": 54,
      "metadata": {
        "colab": {
          "base_uri": "https://localhost:8080/"
        },
        "id": "do2FKtCdmmsh",
        "outputId": "6ef51606-3838-4f2e-8de9-0b11f747d96c"
      },
      "outputs": [
        {
          "data": {
            "text/plain": [
              "id           object\n",
              "Nome         object\n",
              "Sexo         object\n",
              "Nasc         object\n",
              "Idade         int64\n",
              "Email        object\n",
              "Lat_long     object\n",
              "Job          object\n",
              "Estado       object\n",
              "Perfil       object\n",
              "Ativo01     float64\n",
              "Ativo02     float64\n",
              "Ativo03     float64\n",
              "Ativo04     float64\n",
              "Ativo05     float64\n",
              "Ativo06     float64\n",
              "Ativo07     float64\n",
              "Nota1       float64\n",
              "Nota2       float64\n",
              "Total       float64\n",
              "Media       float64\n",
              "Dominio      object\n",
              "Renda       float64\n",
              "dtype: object"
            ]
          },
          "execution_count": 54,
          "metadata": {},
          "output_type": "execute_result"
        }
      ],
      "source": [
        "# Mudar o nome da coluna \"Salário\" para \"Renda\" e tratar a coluna (sem caracter $ e tipo numérica)\n",
        "\n",
        "trata_salario = lambda x: x.replace('$', '')\n",
        "dados_fin['Renda'] = dados_fin['Salario'].apply(trata_salario)\n",
        "dados_fin = dados_fin.astype({'Renda': 'float'})\n",
        "dados_fin.drop(columns=['Salario'], axis=1, inplace=True)\n",
        "dados_fin.dtypes"
      ]
    },
    {
      "cell_type": "code",
      "execution_count": 55,
      "metadata": {
        "id": "isqTJTwpmmsh"
      },
      "outputs": [],
      "source": [
        "# Mudar os dados da coluna \"Sexo\" para Masculino e Feminino\n",
        "\n",
        "dict_sexo = {'Fem':'Feminino', 'Masc':'Masculino'}\n",
        "\n",
        "dados_fin['Sexo'] = dados_fin['Sexo'].map(dict_sexo)\n"
      ]
    },
    {
      "cell_type": "code",
      "execution_count": 56,
      "metadata": {
        "colab": {
          "base_uri": "https://localhost:8080/"
        },
        "id": "DJs6Ym6-mmsh",
        "outputId": "b43f1cfe-87ab-4f87-f330-67a7facb0ce2"
      },
      "outputs": [
        {
          "data": {
            "text/plain": [
              "id           object\n",
              "Nome         object\n",
              "Sexo         object\n",
              "Nasc         object\n",
              "Idade         int64\n",
              "Email        object\n",
              "Lat_long     object\n",
              "Job          object\n",
              "Estado       object\n",
              "Perfil       object\n",
              "Ativo01     float64\n",
              "Ativo02     float64\n",
              "Ativo03     float64\n",
              "Ativo04     float64\n",
              "Ativo05     float64\n",
              "Ativo06     float64\n",
              "Ativo07     float64\n",
              "Nota1       float64\n",
              "Nota2       float64\n",
              "Total       float64\n",
              "Media         int32\n",
              "Dominio      object\n",
              "Renda       float64\n",
              "dtype: object"
            ]
          },
          "execution_count": 56,
          "metadata": {},
          "output_type": "execute_result"
        }
      ],
      "source": [
        "# Transformar os dados da coluna Media em inteiro\n",
        "\n",
        "dados_fin = dados_fin.astype({'Media': 'int'})\n",
        "dados_fin.dtypes"
      ]
    },
    {
      "cell_type": "code",
      "execution_count": 57,
      "metadata": {
        "colab": {
          "base_uri": "https://localhost:8080/",
          "height": 543
        },
        "id": "BH04qHQemmsh",
        "outputId": "4be13d2c-afab-409e-b583-ca6f4fff8bf6"
      },
      "outputs": [
        {
          "data": {
            "text/html": [
              "<div>\n",
              "<style scoped>\n",
              "    .dataframe tbody tr th:only-of-type {\n",
              "        vertical-align: middle;\n",
              "    }\n",
              "\n",
              "    .dataframe tbody tr th {\n",
              "        vertical-align: top;\n",
              "    }\n",
              "\n",
              "    .dataframe thead th {\n",
              "        text-align: right;\n",
              "    }\n",
              "</style>\n",
              "<table border=\"1\" class=\"dataframe\">\n",
              "  <thead>\n",
              "    <tr style=\"text-align: right;\">\n",
              "      <th></th>\n",
              "      <th>id</th>\n",
              "      <th>Nome</th>\n",
              "      <th>Sexo</th>\n",
              "      <th>Nasc</th>\n",
              "      <th>Idade</th>\n",
              "      <th>Email</th>\n",
              "      <th>Lat_long</th>\n",
              "      <th>Job</th>\n",
              "      <th>Estado</th>\n",
              "      <th>Perfil</th>\n",
              "      <th>...</th>\n",
              "      <th>Ativo05</th>\n",
              "      <th>Ativo06</th>\n",
              "      <th>Ativo07</th>\n",
              "      <th>Nota1</th>\n",
              "      <th>Nota2</th>\n",
              "      <th>Total</th>\n",
              "      <th>Media</th>\n",
              "      <th>Dominio</th>\n",
              "      <th>Renda</th>\n",
              "      <th>NPS</th>\n",
              "    </tr>\n",
              "  </thead>\n",
              "  <tbody>\n",
              "    <tr>\n",
              "      <th>0</th>\n",
              "      <td>id0000001</td>\n",
              "      <td>Eunice Hellen do Vale</td>\n",
              "      <td>Feminino</td>\n",
              "      <td>1970-11-12</td>\n",
              "      <td>51</td>\n",
              "      <td>djones@yahoo.com</td>\n",
              "      <td>(Decimal('24.7024355'), Decimal('-28.038258'))</td>\n",
              "      <td>Technical author</td>\n",
              "      <td>TO</td>\n",
              "      <td>Moderado</td>\n",
              "      <td>...</td>\n",
              "      <td>4480.91</td>\n",
              "      <td>2329.720</td>\n",
              "      <td>480.72</td>\n",
              "      <td>79.600372</td>\n",
              "      <td>9.802620</td>\n",
              "      <td>30151.600</td>\n",
              "      <td>44</td>\n",
              "      <td>yahoo.com</td>\n",
              "      <td>63.67</td>\n",
              "      <td>Detrator</td>\n",
              "    </tr>\n",
              "    <tr>\n",
              "      <th>1</th>\n",
              "      <td>id0000002</td>\n",
              "      <td>Sebastião Castelo Branco Júnior</td>\n",
              "      <td>Masculino</td>\n",
              "      <td>2019-12-10</td>\n",
              "      <td>2</td>\n",
              "      <td>barnesandrea@yahoo.com</td>\n",
              "      <td>(Decimal('21.8589875'), Decimal('122.830566'))</td>\n",
              "      <td>Biochemist, clinical</td>\n",
              "      <td>DF</td>\n",
              "      <td>Moderado</td>\n",
              "      <td>...</td>\n",
              "      <td>5624.22</td>\n",
              "      <td>2669.980</td>\n",
              "      <td>504.17</td>\n",
              "      <td>44.406893</td>\n",
              "      <td>90.512871</td>\n",
              "      <td>32689.410</td>\n",
              "      <td>67</td>\n",
              "      <td>yahoo.com</td>\n",
              "      <td>21.96</td>\n",
              "      <td>Neutro</td>\n",
              "    </tr>\n",
              "    <tr>\n",
              "      <th>2</th>\n",
              "      <td>id0000003</td>\n",
              "      <td>Romildo Fábio de Carvalho</td>\n",
              "      <td>Masculino</td>\n",
              "      <td>2015-12-28</td>\n",
              "      <td>6</td>\n",
              "      <td>walkermichael@yahoo.com</td>\n",
              "      <td>(Decimal('-28.2161525'), Decimal('97.140529'))</td>\n",
              "      <td>Development worker, international aid</td>\n",
              "      <td>DF</td>\n",
              "      <td>Agressivo</td>\n",
              "      <td>...</td>\n",
              "      <td>5033.83</td>\n",
              "      <td>2229.450</td>\n",
              "      <td>523.12</td>\n",
              "      <td>44.020024</td>\n",
              "      <td>65.060941</td>\n",
              "      <td>31585.130</td>\n",
              "      <td>54</td>\n",
              "      <td>yahoo.com</td>\n",
              "      <td>62497.64</td>\n",
              "      <td>Neutro</td>\n",
              "    </tr>\n",
              "    <tr>\n",
              "      <th>3</th>\n",
              "      <td>id0000004</td>\n",
              "      <td>Lana Albina de Lemos Mumy</td>\n",
              "      <td>Feminino</td>\n",
              "      <td>1993-05-03</td>\n",
              "      <td>28</td>\n",
              "      <td>cobbangela@hotmail.com</td>\n",
              "      <td>(Decimal('-40.8557635'), Decimal('-2.936099'))</td>\n",
              "      <td>Estate manager/land agent</td>\n",
              "      <td>DF</td>\n",
              "      <td>Agressivo</td>\n",
              "      <td>...</td>\n",
              "      <td>5933.91</td>\n",
              "      <td>2271.385</td>\n",
              "      <td>486.05</td>\n",
              "      <td>25.597924</td>\n",
              "      <td>86.548918</td>\n",
              "      <td>32835.405</td>\n",
              "      <td>56</td>\n",
              "      <td>hotmail.com</td>\n",
              "      <td>99878.74</td>\n",
              "      <td>Neutro</td>\n",
              "    </tr>\n",
              "    <tr>\n",
              "      <th>4</th>\n",
              "      <td>id0000005</td>\n",
              "      <td>Rose Elisângela Vyrnium de Moura</td>\n",
              "      <td>Feminino</td>\n",
              "      <td>1984-06-10</td>\n",
              "      <td>37</td>\n",
              "      <td>crawfordcraig@yahoo.com</td>\n",
              "      <td>(Decimal('-20.2620885'), Decimal('104.349223'))</td>\n",
              "      <td>Chartered public finance accountant</td>\n",
              "      <td>MS</td>\n",
              "      <td>Conservador</td>\n",
              "      <td>...</td>\n",
              "      <td>6044.86</td>\n",
              "      <td>2198.890</td>\n",
              "      <td>512.98</td>\n",
              "      <td>14.463307</td>\n",
              "      <td>33.566292</td>\n",
              "      <td>50981.210</td>\n",
              "      <td>24</td>\n",
              "      <td>yahoo.com</td>\n",
              "      <td>188.01</td>\n",
              "      <td>Detrator</td>\n",
              "    </tr>\n",
              "  </tbody>\n",
              "</table>\n",
              "<p>5 rows × 24 columns</p>\n",
              "</div>"
            ],
            "text/plain": [
              "          id                              Nome       Sexo        Nasc  Idade  \\\n",
              "0  id0000001             Eunice Hellen do Vale   Feminino  1970-11-12     51   \n",
              "1  id0000002   Sebastião Castelo Branco Júnior  Masculino  2019-12-10      2   \n",
              "2  id0000003         Romildo Fábio de Carvalho  Masculino  2015-12-28      6   \n",
              "3  id0000004         Lana Albina de Lemos Mumy   Feminino  1993-05-03     28   \n",
              "4  id0000005  Rose Elisângela Vyrnium de Moura   Feminino  1984-06-10     37   \n",
              "\n",
              "                     Email                                         Lat_long  \\\n",
              "0         djones@yahoo.com   (Decimal('24.7024355'), Decimal('-28.038258'))   \n",
              "1   barnesandrea@yahoo.com   (Decimal('21.8589875'), Decimal('122.830566'))   \n",
              "2  walkermichael@yahoo.com   (Decimal('-28.2161525'), Decimal('97.140529'))   \n",
              "3   cobbangela@hotmail.com   (Decimal('-40.8557635'), Decimal('-2.936099'))   \n",
              "4  crawfordcraig@yahoo.com  (Decimal('-20.2620885'), Decimal('104.349223'))   \n",
              "\n",
              "                                     Job Estado       Perfil  ...  Ativo05  \\\n",
              "0                       Technical author     TO     Moderado  ...  4480.91   \n",
              "1                   Biochemist, clinical     DF     Moderado  ...  5624.22   \n",
              "2  Development worker, international aid     DF    Agressivo  ...  5033.83   \n",
              "3              Estate manager/land agent     DF    Agressivo  ...  5933.91   \n",
              "4    Chartered public finance accountant     MS  Conservador  ...  6044.86   \n",
              "\n",
              "    Ativo06  Ativo07      Nota1      Nota2      Total  Media      Dominio  \\\n",
              "0  2329.720   480.72  79.600372   9.802620  30151.600     44    yahoo.com   \n",
              "1  2669.980   504.17  44.406893  90.512871  32689.410     67    yahoo.com   \n",
              "2  2229.450   523.12  44.020024  65.060941  31585.130     54    yahoo.com   \n",
              "3  2271.385   486.05  25.597924  86.548918  32835.405     56  hotmail.com   \n",
              "4  2198.890   512.98  14.463307  33.566292  50981.210     24    yahoo.com   \n",
              "\n",
              "      Renda       NPS  \n",
              "0     63.67  Detrator  \n",
              "1     21.96    Neutro  \n",
              "2  62497.64    Neutro  \n",
              "3  99878.74    Neutro  \n",
              "4    188.01  Detrator  \n",
              "\n",
              "[5 rows x 24 columns]"
            ]
          },
          "execution_count": 57,
          "metadata": {},
          "output_type": "execute_result"
        }
      ],
      "source": [
        "# Cria coluna \"NPS\" onde o investidor é promotor se a média das notas é maior igual a 80, neutro se a média estiver entre 50 e 80, e detrator se for abaixo de 50\n",
        "\n",
        "lista_condicoes = [(dados_fin['Media'] >= 80),\n",
        "(dados_fin['Media'] >= 50) & (dados_fin['Media'] < 80),\n",
        "(dados_fin['Media'] < 50)]\n",
        "\n",
        "lista_escolhas = ['Promotor', 'Neutro', 'Detrator']\n",
        "\n",
        "dados_fin['NPS'] = np.select(lista_condicoes, lista_escolhas)\n",
        "dados_fin.head()"
      ]
    },
    {
      "cell_type": "markdown",
      "metadata": {
        "id": "WMBqrGsBmmsh"
      },
      "source": [
        "## 8 - Calcule os seguintes dados\n",
        "- Calcule o total investido em cada coluna Ativo (tente usar o apply)\n",
        "- Qual o menor valor investido em cada ativo?\n",
        "- Mostre a média e desvio padrão de cada ativo\n",
        "- Qual a idade do investidor mais velho?\n",
        "- Qual a mediana da coluna Média?"
      ]
    },
    {
      "cell_type": "code",
      "execution_count": 58,
      "metadata": {
        "colab": {
          "base_uri": "https://localhost:8080/"
        },
        "id": "967VYzTummsh",
        "outputId": "d4f37b68-526b-41fc-efe8-a66fc3012944"
      },
      "outputs": [
        {
          "name": "stdout",
          "output_type": "stream",
          "text": [
            "Ativo01: 43408429.129999995\n",
            "Ativo02: 199210699.28\n",
            "Ativo03: 121430268.38\n",
            "Ativo04: 574345543.47\n",
            "Ativo05: 204250239.32\n",
            "Ativo06: 88950651.25000001\n",
            "Ativo07: 19379032.72\n",
            "CPU times: total: 0 ns\n",
            "Wall time: 2.48 ms\n"
          ]
        }
      ],
      "source": [
        "%%time\n",
        "# Calcule o total investido em cada coluna Ativo\n",
        "for col in dados_fin.columns:\n",
        "    if col.startswith(\"Ativo\"):\n",
        "        print(f'{col}: {dados_fin[col].sum()}')"
      ]
    },
    {
      "cell_type": "code",
      "execution_count": 59,
      "metadata": {
        "colab": {
          "base_uri": "https://localhost:8080/",
          "height": 208
        },
        "id": "XDfljw_0mmsh",
        "outputId": "d60c5850-8772-41fc-95cd-2532ca928c1e"
      },
      "outputs": [
        {
          "data": {
            "text/plain": [
              "Ativo01    4.340843e+07\n",
              "Ativo02    1.992107e+08\n",
              "Ativo03    1.214303e+08\n",
              "Ativo04    5.743455e+08\n",
              "Ativo05    2.042502e+08\n",
              "Ativo06    8.895065e+07\n",
              "Ativo07    1.937903e+07\n",
              "dtype: float64"
            ]
          },
          "metadata": {},
          "output_type": "display_data"
        },
        {
          "name": "stdout",
          "output_type": "stream",
          "text": [
            "CPU times: total: 15.6 ms\n",
            "Wall time: 19.6 ms\n"
          ]
        },
        {
          "data": {
            "text/plain": [
              "pandas.core.series.Series"
            ]
          },
          "execution_count": 59,
          "metadata": {},
          "output_type": "execute_result"
        }
      ],
      "source": [
        "%%time\n",
        "#Calcule o total investido em cada coluna Ativo, agora com apply\n",
        "pega_soma = lambda x: x.sum()\n",
        "totatl_investido = dados_fin[['Ativo01', 'Ativo02', 'Ativo03', 'Ativo04',\n",
        "       'Ativo05', 'Ativo06', 'Ativo07']].apply(pega_soma)\n",
        "display(totatl_investido) \n",
        "type(totatl_investido)\n",
        "\n",
        "      "
      ]
    },
    {
      "cell_type": "code",
      "execution_count": 60,
      "metadata": {
        "colab": {
          "base_uri": "https://localhost:8080/"
        },
        "id": "3ceJxbGvmmsh",
        "outputId": "af3ce829-5c6e-4d35-a05d-66562d1f929f"
      },
      "outputs": [
        {
          "name": "stdout",
          "output_type": "stream",
          "text": [
            "Ativo01: 800.01\n",
            "Ativo02: 4500.05\n",
            "Ativo03: 2500.01\n",
            "Ativo04: 5000.81\n",
            "Ativo05: 4000.14\n",
            "Ativo06: 2000.04\n",
            "Ativo07: 462.93\n"
          ]
        }
      ],
      "source": [
        "# Qual o menor valor investido em cada ativo?\n",
        "\n",
        "for col in dados_fin.columns:\n",
        "    if col.startswith(\"Ativo\"):\n",
        "        print(f'{col}: {dados_fin[col].min()}')"
      ]
    },
    {
      "cell_type": "code",
      "execution_count": 61,
      "metadata": {
        "colab": {
          "base_uri": "https://localhost:8080/"
        },
        "id": "JfpA7qDtmmsi",
        "outputId": "2efeaf03-124e-48f8-e63a-4bb1341cd65c"
      },
      "outputs": [
        {
          "name": "stdout",
          "output_type": "stream",
          "text": [
            "Ativo01 --> Média: 1120.101902513289 | Desvio padrão: 189.92350907992298\n",
            "Ativo02 --> Média: 5140.390650771534 | Desvio padrão: 366.305149402226\n",
            "Ativo03 --> Média: 3133.3609015843526 | Desvio padrão: 363.2161560268113\n",
            "Ativo04 --> Média: 14820.29064019198 | Desvio padrão: 5826.758297033162\n",
            "Ativo05 --> Média: 5270.429873561438 | Desvio padrão: 729.5777630895601\n",
            "Ativo06 --> Média: 2295.2637469680553 | Desvio padrão: 171.2709971510916\n",
            "Ativo07 --> Média: 500.05245187593533 | Desvio padrão: 9.998218104115871\n"
          ]
        }
      ],
      "source": [
        "# Mostre a média e desvio padrão de cada ativo\n",
        "\n",
        "for col in dados_fin.columns:\n",
        "    if col.startswith(\"Ativo\"):\n",
        "        print(f'{col} --> Média: {dados_fin[col].mean()} | Desvio padrão: {dados_fin[col].std()}')"
      ]
    },
    {
      "cell_type": "code",
      "execution_count": 62,
      "metadata": {
        "colab": {
          "base_uri": "https://localhost:8080/"
        },
        "id": "wmESFi8Immsi",
        "outputId": "165f2719-df04-4f20-ac2a-27d270405e42"
      },
      "outputs": [
        {
          "data": {
            "text/plain": [
              "51"
            ]
          },
          "execution_count": 62,
          "metadata": {},
          "output_type": "execute_result"
        }
      ],
      "source": [
        "# Qual a idade do investidor mais velho?\n",
        "\n",
        "dados_fin['Idade'].max()\n"
      ]
    },
    {
      "cell_type": "code",
      "execution_count": 63,
      "metadata": {
        "colab": {
          "base_uri": "https://localhost:8080/"
        },
        "id": "JAxpTrQTmmsi",
        "outputId": "fafcf94f-692f-4074-f595-3ac011f84102"
      },
      "outputs": [
        {
          "data": {
            "text/plain": [
              "49.0"
            ]
          },
          "execution_count": 63,
          "metadata": {},
          "output_type": "execute_result"
        }
      ],
      "source": [
        "# Qual a mediana da coluna Média?\n",
        "\n",
        "dados_fin['Media'].median()"
      ]
    },
    {
      "cell_type": "markdown",
      "metadata": {
        "id": "Iu8_Jnejmmsi"
      },
      "source": [
        "## 9 - Responder as perguntas abaixo\n",
        "\n",
        "- Quantos investidores são promotores?\n",
        "- Quantos investidores são do sexo feminino?\n",
        "- Quantos investidores investiram mais de 16000 no Ativo04?\n",
        "- Quantos investidores investiram mais de 16000 no Ativo04 e menos de 5000 no Ativo05?\n",
        "- Quantos investidores do sexo feminino tem mais de 25 anos e investiu menos de 10000? (bonus: por que esse dado seria importante para a estratégia da nossa empresa?\n",
        "\n",
        "- Quantos investidores tem em cada estado (dica: use groupby)\n",
        "- Qual é a soma do total investido por cada estado?\n",
        "- Como os investidores se distribuem em promotores, detratores e neutros?\n",
        "- Qual é a média do total investido por promotores, detratores e neutros?\n"
      ]
    },
    {
      "cell_type": "code",
      "execution_count": 64,
      "metadata": {
        "colab": {
          "base_uri": "https://localhost:8080/"
        },
        "id": "gdm6d2Drmmsi",
        "outputId": "0ee2b42f-1f61-4765-c40d-69b7111ba892"
      },
      "outputs": [
        {
          "data": {
            "text/plain": [
              "NPS    2703\n",
              "dtype: int64"
            ]
          },
          "execution_count": 64,
          "metadata": {},
          "output_type": "execute_result"
        }
      ],
      "source": [
        "# Quantos investidores são promotores?\n",
        "\n",
        "dados_fin[['NPS']].query('NPS == \"Promotor\"').count()\n"
      ]
    },
    {
      "cell_type": "code",
      "execution_count": 65,
      "metadata": {
        "colab": {
          "base_uri": "https://localhost:8080/"
        },
        "id": "DNHUMcMdmmsi",
        "outputId": "0824c110-5683-4136-b8a3-05a33a6a5bc6"
      },
      "outputs": [
        {
          "data": {
            "text/plain": [
              "Sexo    19385\n",
              "dtype: int64"
            ]
          },
          "execution_count": 65,
          "metadata": {},
          "output_type": "execute_result"
        }
      ],
      "source": [
        "# Quantos investidores são do sexo feminino?\n",
        "\n",
        "dados_fin[['Sexo']].query('Sexo == \"Feminino\"').count()\n"
      ]
    },
    {
      "cell_type": "code",
      "execution_count": 66,
      "metadata": {
        "colab": {
          "base_uri": "https://localhost:8080/"
        },
        "id": "aF_Y35onmmsi",
        "outputId": "80ebfe5b-c821-4048-939b-33af5e73ab44"
      },
      "outputs": [
        {
          "data": {
            "text/plain": [
              "Ativo04    10689\n",
              "dtype: int64"
            ]
          },
          "execution_count": 66,
          "metadata": {},
          "output_type": "execute_result"
        }
      ],
      "source": [
        "# Quantos investidores investiram mais de 16000 no Ativo04?\n",
        "\n",
        "dados_fin[['Ativo04']].query('Ativo04 > 16000').count()\n"
      ]
    },
    {
      "cell_type": "code",
      "execution_count": 67,
      "metadata": {
        "colab": {
          "base_uri": "https://localhost:8080/"
        },
        "id": "HHsx80u4mmsi",
        "outputId": "6a0bb665-814c-4a89-eec4-572e67a833e8"
      },
      "outputs": [
        {
          "data": {
            "text/plain": [
              "Ativo04    3684\n",
              "Ativo05    3684\n",
              "dtype: int64"
            ]
          },
          "execution_count": 67,
          "metadata": {},
          "output_type": "execute_result"
        }
      ],
      "source": [
        "# Quantos investidores investiram mais de 16000 no Ativo04 e menos de 5000 no Ativo05?\n",
        "\n",
        "dados_fin[['Ativo04', 'Ativo05']].query('(Ativo04 > 16000) & (Ativo05 < 5000)').count()\n"
      ]
    },
    {
      "cell_type": "code",
      "execution_count": 68,
      "metadata": {
        "colab": {
          "base_uri": "https://localhost:8080/"
        },
        "id": "0k-TJAW9mmsi",
        "outputId": "de3a7d0c-23ec-42b7-d74a-e73c79a2f50f"
      },
      "outputs": [
        {
          "data": {
            "text/plain": [
              "Sexo     0\n",
              "Idade    0\n",
              "Total    0\n",
              "dtype: int64"
            ]
          },
          "execution_count": 68,
          "metadata": {},
          "output_type": "execute_result"
        }
      ],
      "source": [
        "# Quantos investidores do sexo feminino tem mais de 25 anos e investiu menos de 10000? (bonus: por que esse dado seria importante para a estratégia da nossa empresa?)\n",
        "\n",
        "dados_fin[['Sexo', 'Idade', 'Total']].query('(Sexo == \"Feminino\") & (Idade > 25) & (Total < 10000)').count()\n"
      ]
    },
    {
      "cell_type": "code",
      "execution_count": 69,
      "metadata": {
        "colab": {
          "base_uri": "https://localhost:8080/"
        },
        "id": "6Mwnep6fmmsj",
        "outputId": "abffea5e-4096-4a2a-950f-773d56a4eafc"
      },
      "outputs": [
        {
          "data": {
            "text/plain": [
              "Estado\n",
              "AC    1435\n",
              "AL    1376\n",
              "AM    1495\n",
              "AP    1438\n",
              "BA    1484\n",
              "CE    1465\n",
              "DF    1470\n",
              "ES    1472\n",
              "GO    1394\n",
              "MA    1454\n",
              "MG    1407\n",
              "MS    1436\n",
              "MT    1390\n",
              "PA    1421\n",
              "PB    1405\n",
              "PE    1477\n",
              "PI    1503\n",
              "PR    1371\n",
              "RJ    1466\n",
              "RN    1472\n",
              "RO    1440\n",
              "RR    1495\n",
              "RS    1393\n",
              "SC    1430\n",
              "SE    1319\n",
              "SP    1464\n",
              "TO    1382\n",
              "dtype: int64"
            ]
          },
          "execution_count": 69,
          "metadata": {},
          "output_type": "execute_result"
        }
      ],
      "source": [
        "# Quantos investidores tem em cada estado (dica: use groupby)\n",
        "\n",
        "dados_fin[['Estado']].groupby(['Estado']).size()\n"
      ]
    },
    {
      "cell_type": "code",
      "execution_count": 70,
      "metadata": {
        "colab": {
          "base_uri": "https://localhost:8080/",
          "height": 927
        },
        "id": "xJwznPZ8mmsj",
        "outputId": "d545707a-82cd-4899-c654-b173e4c05a91"
      },
      "outputs": [
        {
          "data": {
            "text/html": [
              "<div>\n",
              "<style scoped>\n",
              "    .dataframe tbody tr th:only-of-type {\n",
              "        vertical-align: middle;\n",
              "    }\n",
              "\n",
              "    .dataframe tbody tr th {\n",
              "        vertical-align: top;\n",
              "    }\n",
              "\n",
              "    .dataframe thead th {\n",
              "        text-align: right;\n",
              "    }\n",
              "</style>\n",
              "<table border=\"1\" class=\"dataframe\">\n",
              "  <thead>\n",
              "    <tr style=\"text-align: right;\">\n",
              "      <th></th>\n",
              "      <th>Total</th>\n",
              "    </tr>\n",
              "    <tr>\n",
              "      <th>Estado</th>\n",
              "      <th></th>\n",
              "    </tr>\n",
              "  </thead>\n",
              "  <tbody>\n",
              "    <tr>\n",
              "      <th>AC</th>\n",
              "      <td>46212421.70</td>\n",
              "    </tr>\n",
              "    <tr>\n",
              "      <th>AL</th>\n",
              "      <td>44484902.61</td>\n",
              "    </tr>\n",
              "    <tr>\n",
              "      <th>AM</th>\n",
              "      <td>48309352.80</td>\n",
              "    </tr>\n",
              "    <tr>\n",
              "      <th>AP</th>\n",
              "      <td>46460307.08</td>\n",
              "    </tr>\n",
              "    <tr>\n",
              "      <th>BA</th>\n",
              "      <td>47657553.42</td>\n",
              "    </tr>\n",
              "    <tr>\n",
              "      <th>CE</th>\n",
              "      <td>47233064.98</td>\n",
              "    </tr>\n",
              "    <tr>\n",
              "      <th>DF</th>\n",
              "      <td>47854246.04</td>\n",
              "    </tr>\n",
              "    <tr>\n",
              "      <th>ES</th>\n",
              "      <td>47451913.34</td>\n",
              "    </tr>\n",
              "    <tr>\n",
              "      <th>GO</th>\n",
              "      <td>45379416.90</td>\n",
              "    </tr>\n",
              "    <tr>\n",
              "      <th>MA</th>\n",
              "      <td>46674233.74</td>\n",
              "    </tr>\n",
              "    <tr>\n",
              "      <th>MG</th>\n",
              "      <td>45108242.24</td>\n",
              "    </tr>\n",
              "    <tr>\n",
              "      <th>MS</th>\n",
              "      <td>46634129.36</td>\n",
              "    </tr>\n",
              "    <tr>\n",
              "      <th>MT</th>\n",
              "      <td>45166424.96</td>\n",
              "    </tr>\n",
              "    <tr>\n",
              "      <th>PA</th>\n",
              "      <td>46026566.14</td>\n",
              "    </tr>\n",
              "    <tr>\n",
              "      <th>PB</th>\n",
              "      <td>45500151.38</td>\n",
              "    </tr>\n",
              "    <tr>\n",
              "      <th>PE</th>\n",
              "      <td>47263428.12</td>\n",
              "    </tr>\n",
              "    <tr>\n",
              "      <th>PI</th>\n",
              "      <td>48710806.94</td>\n",
              "    </tr>\n",
              "    <tr>\n",
              "      <th>PR</th>\n",
              "      <td>44096387.74</td>\n",
              "    </tr>\n",
              "    <tr>\n",
              "      <th>RJ</th>\n",
              "      <td>47535012.27</td>\n",
              "    </tr>\n",
              "    <tr>\n",
              "      <th>RN</th>\n",
              "      <td>47477002.40</td>\n",
              "    </tr>\n",
              "    <tr>\n",
              "      <th>RO</th>\n",
              "      <td>46092178.00</td>\n",
              "    </tr>\n",
              "    <tr>\n",
              "      <th>RR</th>\n",
              "      <td>48226053.27</td>\n",
              "    </tr>\n",
              "    <tr>\n",
              "      <th>RS</th>\n",
              "      <td>44836783.74</td>\n",
              "    </tr>\n",
              "    <tr>\n",
              "      <th>SC</th>\n",
              "      <td>46187062.60</td>\n",
              "    </tr>\n",
              "    <tr>\n",
              "      <th>SE</th>\n",
              "      <td>42858257.26</td>\n",
              "    </tr>\n",
              "    <tr>\n",
              "      <th>SP</th>\n",
              "      <td>46938681.78</td>\n",
              "    </tr>\n",
              "    <tr>\n",
              "      <th>TO</th>\n",
              "      <td>44600282.78</td>\n",
              "    </tr>\n",
              "  </tbody>\n",
              "</table>\n",
              "</div>"
            ],
            "text/plain": [
              "              Total\n",
              "Estado             \n",
              "AC      46212421.70\n",
              "AL      44484902.61\n",
              "AM      48309352.80\n",
              "AP      46460307.08\n",
              "BA      47657553.42\n",
              "CE      47233064.98\n",
              "DF      47854246.04\n",
              "ES      47451913.34\n",
              "GO      45379416.90\n",
              "MA      46674233.74\n",
              "MG      45108242.24\n",
              "MS      46634129.36\n",
              "MT      45166424.96\n",
              "PA      46026566.14\n",
              "PB      45500151.38\n",
              "PE      47263428.12\n",
              "PI      48710806.94\n",
              "PR      44096387.74\n",
              "RJ      47535012.27\n",
              "RN      47477002.40\n",
              "RO      46092178.00\n",
              "RR      48226053.27\n",
              "RS      44836783.74\n",
              "SC      46187062.60\n",
              "SE      42858257.26\n",
              "SP      46938681.78\n",
              "TO      44600282.78"
            ]
          },
          "execution_count": 70,
          "metadata": {},
          "output_type": "execute_result"
        }
      ],
      "source": [
        "# Qual é a soma do total investido por cada estado?\n",
        "\n",
        "round(dados_fin[['Estado', 'Total']].groupby(['Estado']).sum(), 2)\n"
      ]
    },
    {
      "cell_type": "code",
      "execution_count": 71,
      "metadata": {
        "colab": {
          "base_uri": "https://localhost:8080/",
          "height": 175
        },
        "id": "HrxL4X20mmsj",
        "outputId": "4e341284-aacc-4206-f188-57fc1036af33"
      },
      "outputs": [
        {
          "data": {
            "text/html": [
              "<div>\n",
              "<style scoped>\n",
              "    .dataframe tbody tr th:only-of-type {\n",
              "        vertical-align: middle;\n",
              "    }\n",
              "\n",
              "    .dataframe tbody tr th {\n",
              "        vertical-align: top;\n",
              "    }\n",
              "\n",
              "    .dataframe thead th {\n",
              "        text-align: right;\n",
              "    }\n",
              "</style>\n",
              "<table border=\"1\" class=\"dataframe\">\n",
              "  <thead>\n",
              "    <tr style=\"text-align: right;\">\n",
              "      <th></th>\n",
              "      <th>Nome</th>\n",
              "    </tr>\n",
              "    <tr>\n",
              "      <th>NPS</th>\n",
              "      <th></th>\n",
              "    </tr>\n",
              "  </thead>\n",
              "  <tbody>\n",
              "    <tr>\n",
              "      <th>Detrator</th>\n",
              "      <td>19617</td>\n",
              "    </tr>\n",
              "    <tr>\n",
              "      <th>Neutro</th>\n",
              "      <td>16434</td>\n",
              "    </tr>\n",
              "    <tr>\n",
              "      <th>Promotor</th>\n",
              "      <td>2703</td>\n",
              "    </tr>\n",
              "  </tbody>\n",
              "</table>\n",
              "</div>"
            ],
            "text/plain": [
              "           Nome\n",
              "NPS            \n",
              "Detrator  19617\n",
              "Neutro    16434\n",
              "Promotor   2703"
            ]
          },
          "execution_count": 71,
          "metadata": {},
          "output_type": "execute_result"
        }
      ],
      "source": [
        "# Como os investidores se distribuem em promotores, detratores e neutros?\n",
        "\n",
        "dados_fin[['Nome', 'NPS']].groupby(['NPS']).count()\n"
      ]
    },
    {
      "cell_type": "code",
      "execution_count": 72,
      "metadata": {
        "colab": {
          "base_uri": "https://localhost:8080/",
          "height": 175
        },
        "id": "K9-Ek-Qwmmsj",
        "outputId": "91d6d19b-9843-46d3-e02c-a87a9c8b7d57"
      },
      "outputs": [
        {
          "data": {
            "text/html": [
              "<div>\n",
              "<style scoped>\n",
              "    .dataframe tbody tr th:only-of-type {\n",
              "        vertical-align: middle;\n",
              "    }\n",
              "\n",
              "    .dataframe tbody tr th {\n",
              "        vertical-align: top;\n",
              "    }\n",
              "\n",
              "    .dataframe thead th {\n",
              "        text-align: right;\n",
              "    }\n",
              "</style>\n",
              "<table border=\"1\" class=\"dataframe\">\n",
              "  <thead>\n",
              "    <tr style=\"text-align: right;\">\n",
              "      <th></th>\n",
              "      <th>Total</th>\n",
              "    </tr>\n",
              "    <tr>\n",
              "      <th>NPS</th>\n",
              "      <th></th>\n",
              "    </tr>\n",
              "  </thead>\n",
              "  <tbody>\n",
              "    <tr>\n",
              "      <th>Detrator</th>\n",
              "      <td>32278.798576</td>\n",
              "    </tr>\n",
              "    <tr>\n",
              "      <th>Neutro</th>\n",
              "      <td>32298.304550</td>\n",
              "    </tr>\n",
              "    <tr>\n",
              "      <th>Promotor</th>\n",
              "      <td>32175.854575</td>\n",
              "    </tr>\n",
              "  </tbody>\n",
              "</table>\n",
              "</div>"
            ],
            "text/plain": [
              "                 Total\n",
              "NPS                   \n",
              "Detrator  32278.798576\n",
              "Neutro    32298.304550\n",
              "Promotor  32175.854575"
            ]
          },
          "execution_count": 72,
          "metadata": {},
          "output_type": "execute_result"
        }
      ],
      "source": [
        "# Qual é a média do total investido por promotores, detratores e neutros?\n",
        "\n",
        "dados_fin[['NPS', 'Total']].groupby(['NPS']).mean()\n"
      ]
    }
  ],
  "metadata": {
    "colab": {
      "provenance": []
    },
    "kernelspec": {
      "display_name": "Python 3 (ipykernel)",
      "language": "python",
      "name": "python3"
    },
    "language_info": {
      "codemirror_mode": {
        "name": "ipython",
        "version": 3
      },
      "file_extension": ".py",
      "mimetype": "text/x-python",
      "name": "python",
      "nbconvert_exporter": "python",
      "pygments_lexer": "ipython3",
      "version": "3.8.10"
    },
    "vscode": {
      "interpreter": {
        "hash": "cfce97f9f8262183dd4b754d177fff7cd0ef7fcb341b99cfe5188decd0a8dd39"
      }
    }
  },
  "nbformat": 4,
  "nbformat_minor": 0
}
